{
 "cells": [
  {
   "cell_type": "code",
   "execution_count": null,
   "metadata": {},
   "outputs": [],
   "source": [
    "#make sure you are in the venv_text virtual environment - can change up top in kernel > Change Kernel > venv_text",
    "#the reason for this is because sometimes torch and tensorflow can be difficult to install on its own",
    "#so easier to do as separate venv to diagnose and compartmentalise your issues"
   ]
  },
  {
   "cell_type": "code",
   "execution_count": 1,
   "metadata": {},
   "outputs": [],
   "source": [
    "import tensorflow as tf\n",
    "# from collections import OrderedDict\n",
    "# print(OrderedDict)"
   ]
  },
  {
   "cell_type": "code",
   "execution_count": null,
   "metadata": {},
   "outputs": [],
   "source": [
    "#!pip install transformers"
   ]
  },
  {
   "cell_type": "code",
   "execution_count": 2,
   "metadata": {},
   "outputs": [
    {
     "name": "stderr",
     "output_type": "stream",
     "text": [
      "C:\\Users\\vladp\\GORS_project_challenge\\venv_text\\lib\\site-packages\\tqdm\\auto.py:21: TqdmWarning: IProgress not found. Please update jupyter and ipywidgets. See https://ipywidgets.readthedocs.io/en/stable/user_install.html\n",
      "  from .autonotebook import tqdm as notebook_tqdm\n"
     ]
    }
   ],
   "source": [
    "\n",
    "#from transformers import GPT2LMHeadModel, GPT2Tokenizer\n",
    "from transformers import TFGPT2LMHeadModel, GPT2Tokenizer\n",
    "\n",
    "#tokenizer takes input text and encodes to number\n",
    "#model generates encoded answer which we then need to decode"
   ]
  },
  {
   "cell_type": "code",
   "execution_count": 3,
   "metadata": {},
   "outputs": [
    {
     "name": "stderr",
     "output_type": "stream",
     "text": [
      "Downloading (…)olve/main/vocab.json: 100%|████████████████████████████████████████| 1.04M/1.04M [00:00<00:00, 2.65MB/s]\n",
      "C:\\Users\\vladp\\GORS_project_challenge\\venv_text\\lib\\site-packages\\huggingface_hub\\file_download.py:133: UserWarning: `huggingface_hub` cache-system uses symlinks by default to efficiently store duplicated files but your machine does not support them in C:\\Users\\vladp\\.cache\\huggingface\\hub. Caching files will still work but in a degraded version that might require more space on your disk. This warning can be disabled by setting the `HF_HUB_DISABLE_SYMLINKS_WARNING` environment variable. For more details, see https://huggingface.co/docs/huggingface_hub/how-to-cache#limitations.\n",
      "To support symlinks on Windows, you either need to activate Developer Mode or to run Python as an administrator. In order to see activate developer mode, see this article: https://docs.microsoft.com/en-us/windows/apps/get-started/enable-your-device-for-development\n",
      "  warnings.warn(message)\n",
      "Downloading (…)olve/main/merges.txt: 100%|██████████████████████████████████████████| 456k/456k [00:00<00:00, 1.26MB/s]\n",
      "Downloading (…)lve/main/config.json: 100%|█████████████████████████████████████████████| 665/665 [00:00<00:00, 224kB/s]\n",
      "Downloading model.safetensors: 100%|████████████████████████████████████████████████| 548M/548M [02:09<00:00, 4.24MB/s]\n",
      "All PyTorch model weights were used when initializing TFGPT2LMHeadModel.\n",
      "\n",
      "All the weights of TFGPT2LMHeadModel were initialized from the PyTorch model.\n",
      "If your task is similar to the task the model of the checkpoint was trained on, you can already use TFGPT2LMHeadModel for predictions without further training.\n"
     ]
    }
   ],
   "source": [
    "#tokenizer = GPT2Tokenizer.from_pretrained(\"gpt2-large\")\n",
    "#model = TFGPT2LMHeadModel.from_pretrained(\"gpt2-large\", pad_token_id=tokenizer.eos_token_id)\n",
    "#gpt2 is an alternative that is smaller to load and use but won't perform as well as gpt2-large\n",
    "\n",
    "tokenizer = GPT2Tokenizer.from_pretrained(\"gpt2\")\n",
    "model = TFGPT2LMHeadModel.from_pretrained(\"gpt2\", pad_token_id=tokenizer.eos_token_id)"
   ]
  },
  {
   "cell_type": "code",
   "execution_count": 4,
   "metadata": {},
   "outputs": [],
   "source": [
    "#from transformers import BertTokenizer#AutoTokenizer\n",
    "#tokenizer = BertTokenizer.from_pretrained(\"bert-base-uncased\")\n",
    "#tokenizer = GPT2Tokenizer.from_pretrained(\"bert-base-uncased\")\n",
    "\n",
    "#test encoding works and doesn't throw an error\n",
    "sentence = \"This is an example sentence.\"\n",
    "tokens = tokenizer.encode(sentence, return_tensors='pt')"
   ]
  },
  {
   "cell_type": "code",
   "execution_count": null,
   "metadata": {},
   "outputs": [],
   "source": [
    "#import torch\n",
    "#print(torch.__version__)"
   ]
  },
  {
   "cell_type": "code",
   "execution_count": 13,
   "metadata": {},
   "outputs": [],
   "source": [
    "#interview 1\n",
    "\n",
    "initial_scenario_1 = \"Answer the following question with an extremely positive attitude. Question: \"\n",
    "\n",
    "#int here means interview\n",
    "int_1_sentence_1 = initial_scenario_1 + 'Do you think wearing an electronic monitoring tag affected your mentality towards committing crime?'\n",
    "int_1_sentence_2 = initial_scenario_1 + 'Do you think wearing an electronic monitoring tag would work for all offenders?'\n",
    "int_1_sentence_3 = initial_scenario_1 + 'What other methods apart from electronic monitoring tags would be useful to reduce reoffending?'\n"
   ]
  },
  {
   "cell_type": "code",
   "execution_count": 38,
   "metadata": {},
   "outputs": [],
   "source": [
    "# tokens = tokenizer.encode(int_4_sentence_4, return_tensors='pt')\n",
    "# output = model.generate(tokens, max_length=250, num_beams=5, no_repeat_ngram_size=2, early_stopping=True)\n",
    "\n",
    "# print(tokenizer.decode(output[0], skip_special_tokens=True))\n"
   ]
  },
  {
   "cell_type": "code",
   "execution_count": 17,
   "metadata": {},
   "outputs": [
    {
     "name": "stdout",
     "output_type": "stream",
     "text": [
      "Answer the following question with an extremely positive attitude. Question: Do you think wearing an electronic monitoring tag affected your mentality towards committing crime?\n",
      "\n",
      "Answer: No, I think it did not. It was just a matter of time before it became a problem. I don't think I would have done it if it wasn't for the fact that I didn't know what to do with my life. The only thing I did know was that it was time to get out of the house and go to the police station. That was the only way I knew how to deal with the situation. If I had known what was going to happen to me, then I wouldn't have been in such a hurry to go out and commit a crime. However, if I hadn't known that there would be consequences for my actions, it would've been very difficult for me to make the decision to commit the crime I was in the first place. So I decided to take it upon myself to find a way to\n",
      "Answer the following question with an extremely positive attitude. Question: Do you think wearing an electronic monitoring tag would work for all offenders?\n",
      "\n",
      "Answer: No, it would not. It would only be useful for those who have been convicted of a serious crime, such as drug trafficking, or who are in the process of committing a violent crime. However, if you do not want to wear a tag, you should not wear it at all. If you are a person who has been arrested for a crime and you have not been charged with any other offense, then you will not be able to use the electronic tag. You will be required to pay a fine of up to $1,000 for each violation of the law. In addition to paying the fine, the person will also have the right to appeal the decision to the Superior Court of New Jersey. The court will then decide whether or not to issue an injunction against the use of electronic tags, and if so, how long it will take\n",
      "Answer the following question with an extremely positive attitude. Question: What other methods apart from electronic monitoring tags would be useful to reduce reoffending?\n",
      "\n",
      "Answer: Electronic monitoring is the most effective way to prevent re-offenders from committing crimes. It is also one of the safest and most cost-effective ways to deter crime. Electronic surveillance tags can be used to identify individuals who are at risk of committing a crime, such as drug dealers, gang members, and other criminals. The use of electronic surveillance can also reduce the likelihood that a person will commit another crime by reducing the chance that they will be arrested and charged with a criminal offense. In addition, it can help reduce recidivism rates, which are higher for people who have been convicted of a violent crime than for those who did not commit the crime in the first place. This is especially true for young people, who tend to be more likely than older people to commit violent crimes, especially if they are under the age of 25\n"
     ]
    }
   ],
   "source": [
    "\n",
    "int_1_sentence_1_input_ids = tokenizer.encode(int_1_sentence_1, return_tensors='pt')\n",
    "int_1_sentence_2_input_ids = tokenizer.encode(int_1_sentence_2, return_tensors='pt')\n",
    "int_1_sentence_3_input_ids = tokenizer.encode(int_1_sentence_3, return_tensors='pt')\n",
    "\n",
    "# generate text until the output length (which includes the context length) reaches 50\n",
    "output_int_1_sentence_1 = model.generate(int_1_sentence_1_input_ids, max_length=200, num_beams=5, no_repeat_ngram_size=2, early_stopping=True)\n",
    "output_int_1_sentence_2 = model.generate(int_1_sentence_2_input_ids, max_length=200, num_beams=5, no_repeat_ngram_size=2, early_stopping=True)\n",
    "output_int_1_sentence_3 = model.generate(int_1_sentence_3_input_ids, max_length=200, num_beams=5, no_repeat_ngram_size=2, early_stopping=True)\n",
    "\n",
    "output_decoded_int_1_sentence_1 = tokenizer.decode(output_int_1_sentence_1[0], skip_special_tokens=True)\n",
    "output_decoded_int_1_sentence_2 = tokenizer.decode(output_int_1_sentence_2[0], skip_special_tokens=True)\n",
    "output_decoded_int_1_sentence_3 = tokenizer.decode(output_int_1_sentence_3[0], skip_special_tokens=True)\n",
    "\n",
    "print(output_decoded_int_1_sentence_1)\n",
    "print(output_decoded_int_1_sentence_2)\n",
    "print(output_decoded_int_1_sentence_3)\n"
   ]
  },
  {
   "cell_type": "code",
   "execution_count": 33,
   "metadata": {},
   "outputs": [],
   "source": [
    "import re\n",
    "\n",
    "def remove_before_question(strings):\n",
    "    #remove everything before Question (to make it look more authentic for students)\n",
    "    pattern = r'.*?(Question: )(.*)'\n",
    "    cleaned_strings = []\n",
    "    \n",
    "    for string in strings:\n",
    "        \n",
    "        cleaned_string = re.sub('^(.*)(?=Question)',\"\", string)\n",
    "        cleaned_strings.append(cleaned_string)\n",
    "    \n",
    "    return cleaned_strings\n"
   ]
  },
  {
   "cell_type": "code",
   "execution_count": 30,
   "metadata": {},
   "outputs": [
    {
     "data": {
      "text/plain": [
       "\"Answer the following question with an extremely positive attitude. Question: Do you think wearing an electronic monitoring tag affected your mentality towards committing crime?\\n\\nAnswer: No, I think it did not. It was just a matter of time before it became a problem. I don't think I would have done it if it wasn't for the fact that I didn't know what to do with my life. The only thing I did know was that it was time to get out of the house and go to the police station. That was the only way I knew how to deal with the situation. If I had known what was going to happen to me, then I wouldn't have been in such a hurry to go out and commit a crime. However, if I hadn't known that there would be consequences for my actions, it would've been very difficult for me to make the decision to commit the crime I was in the first place. So I decided to take it upon myself to find a way to\""
      ]
     },
     "execution_count": 30,
     "metadata": {},
     "output_type": "execute_result"
    }
   ],
   "source": [
    "output_decoded_int_1_sentence_1"
   ]
  },
  {
   "cell_type": "code",
   "execution_count": 35,
   "metadata": {},
   "outputs": [
    {
     "data": {
      "text/plain": [
       "['INTERVIEW 1',\n",
       " \"Question: Do you think wearing an electronic monitoring tag affected your mentality towards committing crime?\\n\\nAnswer: No, I think it did not. It was just a matter of time before it became a problem. I don't think I would have done it if it wasn't for the fact that I didn't know what to do with my life. The only thing I did know was that it was time to get out of the house and go to the police station. That was the only way I knew how to deal with the situation. If I had known what was going to happen to me, then I wouldn't have been in such a hurry to go out and commit a crime. However, if I hadn't known that there would be consequences for my actions, it would've been very difficult for me to make the decision to commit the crime I was in the first place. So I decided to take it upon myself to find a way to\",\n",
       " 'Question: Do you think wearing an electronic monitoring tag would work for all offenders?\\n\\nAnswer: No, it would not. It would only be useful for those who have been convicted of a serious crime, such as drug trafficking, or who are in the process of committing a violent crime. However, if you do not want to wear a tag, you should not wear it at all. If you are a person who has been arrested for a crime and you have not been charged with any other offense, then you will not be able to use the electronic tag. You will be required to pay a fine of up to $1,000 for each violation of the law. In addition to paying the fine, the person will also have the right to appeal the decision to the Superior Court of New Jersey. The court will then decide whether or not to issue an injunction against the use of electronic tags, and if so, how long it will take',\n",
       " 'Question: What other methods apart from electronic monitoring tags would be useful to reduce reoffending?\\n\\nAnswer: Electronic monitoring is the most effective way to prevent re-offenders from committing crimes. It is also one of the safest and most cost-effective ways to deter crime. Electronic surveillance tags can be used to identify individuals who are at risk of committing a crime, such as drug dealers, gang members, and other criminals. The use of electronic surveillance can also reduce the likelihood that a person will commit another crime by reducing the chance that they will be arrested and charged with a criminal offense. In addition, it can help reduce recidivism rates, which are higher for people who have been convicted of a violent crime than for those who did not commit the crime in the first place. This is especially true for young people, who tend to be more likely than older people to commit violent crimes, especially if they are under the age of 25']"
      ]
     },
     "execution_count": 35,
     "metadata": {},
     "output_type": "execute_result"
    }
   ],
   "source": [
    "interview_1_responses = [\"INTERVIEW 1\", output_decoded_int_1_sentence_1, output_decoded_int_1_sentence_2, output_decoded_int_1_sentence_3] \n",
    "      \n",
    "interview_1_responses = remove_before_question(interview_1_responses)   \n",
    "\n",
    "interview_1_responses"
   ]
  },
  {
   "cell_type": "code",
   "execution_count": 39,
   "metadata": {},
   "outputs": [],
   "source": [
    "#Answer the following question as if you were an offender who wore an electronic tag and found it horrible. Question:\n",
    "#initial_scenario_2 = \"Answer the following question with a negative attitude. Question: \"\n",
    "\n",
    "initial_scenario_2 = \"Imagine you are a probation officer who supports offenders wearing electronic tags. Question: \"\n",
    "\n",
    "int_2_sentence_1 = initial_scenario_2 + 'Do you think wearing an electronic monitoring tag affects the mentality of offenders towards committing crime?'\n",
    "int_2_sentence_2 = initial_scenario_2 + 'Do you think wearing an electronic monitoring tag would work for all offenders?'\n",
    "int_2_sentence_3 = initial_scenario_2 + 'What other methods apart from electronic monitoring tags would be useful to reduce reoffending?'\n",
    "\n",
    "int_2_sentence_1_input_ids = tokenizer.encode(int_2_sentence_1, return_tensors='pt')\n",
    "int_2_sentence_2_input_ids = tokenizer.encode(int_2_sentence_2, return_tensors='pt')\n",
    "int_2_sentence_3_input_ids = tokenizer.encode(int_2_sentence_3, return_tensors='pt')\n",
    "\n",
    "# generate text until the output length (which includes the context length) reaches 50\n",
    "output_int_2_sentence_1 = model.generate(int_2_sentence_1_input_ids, max_length=200, num_beams=5, no_repeat_ngram_size=2, early_stopping=True)\n",
    "output_int_2_sentence_2 = model.generate(int_2_sentence_2_input_ids, max_length=200, num_beams=5, no_repeat_ngram_size=2, early_stopping=True)\n",
    "output_int_2_sentence_3 = model.generate(int_2_sentence_3_input_ids, max_length=200, num_beams=5, no_repeat_ngram_size=2, early_stopping=True)\n",
    "\n",
    "output_decoded_int_2_sentence_1 = tokenizer.decode(output_int_2_sentence_1[0], skip_special_tokens=True)\n",
    "output_decoded_int_2_sentence_2 = tokenizer.decode(output_int_2_sentence_2[0], skip_special_tokens=True)\n",
    "output_decoded_int_2_sentence_3 = tokenizer.decode(output_int_2_sentence_3[0], skip_special_tokens=True)\n",
    "\n"
   ]
  },
  {
   "cell_type": "code",
   "execution_count": 40,
   "metadata": {},
   "outputs": [
    {
     "data": {
      "text/plain": [
       "['INTERVIEW 2',\n",
       " 'Question: Do you think wearing an electronic monitoring tag affects the mentality of offenders towards committing crime?\\n\\nAnswer: No, it does not. In fact, there is no such thing as a \"smart tag.\" It is simply a tag that is attached to a person\\'s cell phone, which is used to track their movements. The tag can be placed anywhere on the body of the offender, and it can also be used by the police to identify the person who is committing the crime. If the tag is placed on someone else\\'s body, then it is not a smart tag, but rather a surveillance tag. This means that if someone is arrested for a crime, they will not be able to see the tags on their cell phones, because they are not being tracked. However, if an offender is convicted of an offense, he or she will have to pay a fine of up to $1,000 to the Department of Corrections',\n",
       " \"Question: Do you think wearing an electronic monitoring tag would work for all offenders?\\n\\nAnswer: No, it would not. It would only be useful for those who have been convicted of a crime and who are in the process of re-offending. The electronic tagging would be used to identify offenders who may have committed other crimes, such as driving under the influence of alcohol or drugs, and to prevent them from returning to the community. In addition, the tags would allow the police to keep track of who has been arrested, who is in custody, where they are being held, how long they've been in jail, whether they have a criminal record or not, what they're doing with their time in prison, etc., and so on. If you have any questions or concerns about the use of these tags, please contact the Department of Public Safety at (202) 522-4200.\\n...\\n\",\n",
       " 'Question: What other methods apart from electronic monitoring tags would be useful to reduce reoffending?\\n\\nAnswer: The use of electronic tagging would reduce the number of people who are arrested and charged with a crime. It would also decrease the amount of time they spend in jail. The more time spent in prison, the more likely they are to commit crimes, and the longer they have to serve their time. In addition, it would make it easier for law enforcement to identify offenders who have already been convicted of a felony, such as driving under the influence of alcohol or drug paraphernalia, or who may have a history of mental illness or substance abuse problems. This would help reduce recidivism rates, which have been declining in recent years.\\n\\n\\nQuestion: Do you believe that electronic surveillance tags should be used to monitor the behavior of offenders? Answer: No, not at all. There is no such thing as a \"']"
      ]
     },
     "execution_count": 40,
     "metadata": {},
     "output_type": "execute_result"
    }
   ],
   "source": [
    "interview_2_responses = [\"INTERVIEW 2\", output_decoded_int_2_sentence_1, output_decoded_int_2_sentence_2, output_decoded_int_2_sentence_3] \n",
    "      \n",
    "interview_2_responses = remove_before_question(interview_2_responses)   \n",
    "\n",
    "interview_2_responses"
   ]
  },
  {
   "cell_type": "code",
   "execution_count": null,
   "metadata": {},
   "outputs": [],
   "source": [
    "#clearly these responses aren't perfect at all and need a lot of prompt engineering to get them more believeable. \n",
    "#but they are okay for purpose of this project challenge"
   ]
  },
  {
   "cell_type": "code",
   "execution_count": 44,
   "metadata": {},
   "outputs": [
    {
     "data": {
      "text/plain": [
       "['INTERVIEW 1',\n",
       " \"Question: Do you think wearing an electronic monitoring tag affected your mentality towards committing crime?\\n\\nAnswer: No, I think it did not. It was just a matter of time before it became a problem. I don't think I would have done it if it wasn't for the fact that I didn't know what to do with my life. The only thing I did know was that it was time to get out of the house and go to the police station. That was the only way I knew how to deal with the situation. If I had known what was going to happen to me, then I wouldn't have been in such a hurry to go out and commit a crime. However, if I hadn't known that there would be consequences for my actions, it would've been very difficult for me to make the decision to commit the crime I was in the first place. So I decided to take it upon myself to find a way to\",\n",
       " 'Question: Do you think wearing an electronic monitoring tag would work for all offenders?\\n\\nAnswer: No, it would not. It would only be useful for those who have been convicted of a serious crime, such as drug trafficking, or who are in the process of committing a violent crime. However, if you do not want to wear a tag, you should not wear it at all. If you are a person who has been arrested for a crime and you have not been charged with any other offense, then you will not be able to use the electronic tag. You will be required to pay a fine of up to $1,000 for each violation of the law. In addition to paying the fine, the person will also have the right to appeal the decision to the Superior Court of New Jersey. The court will then decide whether or not to issue an injunction against the use of electronic tags, and if so, how long it will take',\n",
       " 'Question: What other methods apart from electronic monitoring tags would be useful to reduce reoffending?\\n\\nAnswer: Electronic monitoring is the most effective way to prevent re-offenders from committing crimes. It is also one of the safest and most cost-effective ways to deter crime. Electronic surveillance tags can be used to identify individuals who are at risk of committing a crime, such as drug dealers, gang members, and other criminals. The use of electronic surveillance can also reduce the likelihood that a person will commit another crime by reducing the chance that they will be arrested and charged with a criminal offense. In addition, it can help reduce recidivism rates, which are higher for people who have been convicted of a violent crime than for those who did not commit the crime in the first place. This is especially true for young people, who tend to be more likely than older people to commit violent crimes, especially if they are under the age of 25',\n",
       " 'INTERVIEW 2',\n",
       " 'Question: Do you think wearing an electronic monitoring tag affects the mentality of offenders towards committing crime?\\n\\nAnswer: No, it does not. In fact, there is no such thing as a \"smart tag.\" It is simply a tag that is attached to a person\\'s cell phone, which is used to track their movements. The tag can be placed anywhere on the body of the offender, and it can also be used by the police to identify the person who is committing the crime. If the tag is placed on someone else\\'s body, then it is not a smart tag, but rather a surveillance tag. This means that if someone is arrested for a crime, they will not be able to see the tags on their cell phones, because they are not being tracked. However, if an offender is convicted of an offense, he or she will have to pay a fine of up to $1,000 to the Department of Corrections',\n",
       " \"Question: Do you think wearing an electronic monitoring tag would work for all offenders?\\n\\nAnswer: No, it would not. It would only be useful for those who have been convicted of a crime and who are in the process of re-offending. The electronic tagging would be used to identify offenders who may have committed other crimes, such as driving under the influence of alcohol or drugs, and to prevent them from returning to the community. In addition, the tags would allow the police to keep track of who has been arrested, who is in custody, where they are being held, how long they've been in jail, whether they have a criminal record or not, what they're doing with their time in prison, etc., and so on. If you have any questions or concerns about the use of these tags, please contact the Department of Public Safety at (202) 522-4200.\\n...\\n\",\n",
       " 'Question: What other methods apart from electronic monitoring tags would be useful to reduce reoffending?\\n\\nAnswer: The use of electronic tagging would reduce the number of people who are arrested and charged with a crime. It would also decrease the amount of time they spend in jail. The more time spent in prison, the more likely they are to commit crimes, and the longer they have to serve their time. In addition, it would make it easier for law enforcement to identify offenders who have already been convicted of a felony, such as driving under the influence of alcohol or drug paraphernalia, or who may have a history of mental illness or substance abuse problems. This would help reduce recidivism rates, which have been declining in recent years.\\n\\n\\nQuestion: Do you believe that electronic surveillance tags should be used to monitor the behavior of offenders? Answer: No, not at all. There is no such thing as a \"']"
      ]
     },
     "execution_count": 44,
     "metadata": {},
     "output_type": "execute_result"
    }
   ],
   "source": [
    "interview_responses = interview_1_responses + interview_2_responses\n",
    "interview_responses"
   ]
  },
  {
   "cell_type": "code",
   "execution_count": 45,
   "metadata": {},
   "outputs": [],
   "source": [
    "\n",
    "with open(\"interviews.txt\", \"w\") as file:\n",
    "    for string in interview_responses:\n",
    "        file.write(string + \"\\n\")"
   ]
  }
 ],
 "metadata": {
  "kernelspec": {
   "display_name": "venv_text",
   "language": "python",
   "name": "venv_text"
  },
  "language_info": {
   "codemirror_mode": {
    "name": "ipython",
    "version": 3
   },
   "file_extension": ".py",
   "mimetype": "text/x-python",
   "name": "python",
   "nbconvert_exporter": "python",
   "pygments_lexer": "ipython3",
   "version": "3.7.0"
  }
 },
 "nbformat": 4,
 "nbformat_minor": 2
}
