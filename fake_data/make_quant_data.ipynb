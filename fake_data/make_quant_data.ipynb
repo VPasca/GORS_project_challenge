{
 "cells": [
  {
   "cell_type": "code",
   "execution_count": null,
   "metadata": {},
   "outputs": [],
   "source": [
    "#in conmand prompt activate venv with venv\\Scripts\\activate\n"
   ]
  },
  {
   "cell_type": "code",
   "execution_count": null,
   "metadata": {},
   "outputs": [],
   "source": [
    "import numpy as np\n",
    "import pandas as pd\n",
    "from datetime import datetime, timedelta\n",
    "import re"
   ]
  },
  {
   "cell_type": "code",
   "execution_count": null,
   "metadata": {},
   "outputs": [],
   "source": [
    "import faker\n",
    "from faker import Faker"
   ]
  },
  {
   "cell_type": "code",
   "execution_count": null,
   "metadata": {},
   "outputs": [],
   "source": [
    "# Set the seed\n",
    "import random\n",
    "random.seed(123)"
   ]
  },
  {
   "cell_type": "code",
   "execution_count": null,
   "metadata": {},
   "outputs": [],
   "source": [
    "f = Faker([\"en_UK\"]) #british english version of faker"
   ]
  },
  {
   "cell_type": "code",
   "execution_count": null,
   "metadata": {},
   "outputs": [],
   "source": [
    "#first dataset\n",
    "\n",
    "#columns we want to try and generate\n",
    "#offender_id\n",
    "#offender_name\n",
    "#breach_date = only between Jan to May 2023\n",
    "\n",
    "#how many rows we want it to be\n",
    "random_number = random.randint(15000, 20000)"
   ]
  },
  {
   "cell_type": "code",
   "execution_count": null,
   "metadata": {},
   "outputs": [],
   "source": [
    "def generate_random_date(start_date, end_date):\n",
    "    start_datetime = datetime.strptime(start_date, \"%Y-%m-%d\")\n",
    "    end_datetime = datetime.strptime(end_date, \"%Y-%m-%d\")\n",
    "\n",
    "    # Calculate the total number of days between the start and end dates\n",
    "    total_days = (end_datetime - start_datetime).days\n",
    "\n",
    "    # Generate a random number of days to add to the start date\n",
    "    random_days = random.randint(0, total_days)\n",
    "\n",
    "    # Add the random number of days to the start date\n",
    "    random_date = start_datetime + timedelta(days=random_days)\n",
    "\n",
    "    return random_date.strftime(\"%Y-%m-%d\")\n"
   ]
  },
  {
   "cell_type": "code",
   "execution_count": null,
   "metadata": {},
   "outputs": [],
   "source": [
    "offender_id = []\n",
    "offender_name = []\n",
    "breach_date = []\n",
    "\n",
    "#random_number\n",
    "for i in range(1,random_number):\n",
    "    \n",
    "    #? means letters from the letters parameter, # means digits\n",
    "    fake_off_id = f.bothify(text=\"???####???\", letters=\"ABCDEFGHIJKLMNOPQRSTUVWXYZ\")\n",
    "    fake_name = f.name()\n",
    "    fake_date = generate_random_date(\"2023-01-01\", \"2023-06-01\")\n",
    "    \n",
    "    #print(i)\n",
    "    offender_id.append(fake_off_id)\n",
    "    offender_name.append(fake_name)\n",
    "    breach_date.append(fake_date)"
   ]
  },
  {
   "cell_type": "code",
   "execution_count": null,
   "metadata": {},
   "outputs": [],
   "source": [
    "#make into dataframe and save as csv\n",
    "all_breaches_df = {\n",
    "    \"offender_id\":offender_id,\n",
    "    \"offender_name\":offender_name,\n",
    "    \"breach_date\":breach_date\n",
    "}\n",
    "\n",
    "all_breaches_df = pd.DataFrame(all_breaches_df)\n",
    "\n",
    "all_breaches_df"
   ]
  },
  {
   "cell_type": "code",
   "execution_count": null,
   "metadata": {},
   "outputs": [],
   "source": [
    "#save that dataframe to current working directory\n",
    "all_breaches_df.to_csv(\"all_breaches_df.csv\", index=False)"
   ]
  },
  {
   "cell_type": "code",
   "execution_count": null,
   "metadata": {},
   "outputs": [],
   "source": [
    "#Dataset 2\n",
    "\n",
    "#offender_id\n",
    "#tag_install_date\n",
    "#tag_type\n",
    "#age_at_tag_install\n",
    "#sex\n",
    "#ethnic_group\n",
    "#original_offence\n"
   ]
  },
  {
   "cell_type": "code",
   "execution_count": null,
   "metadata": {},
   "outputs": [],
   "source": [
    "#take a random number between 100-300 of the offender_id in all_breaches_df\n",
    "\n",
    "rand_int_datatset_2 = random.randint(100, 300)\n",
    "\n",
    "tag_breached_offenders = random.sample(offender_id, rand_int_datatset_2)\n",
    "\n",
    "print(rand_int_datatset_2)"
   ]
  },
  {
   "cell_type": "code",
   "execution_count": null,
   "metadata": {},
   "outputs": [],
   "source": [
    "\n",
    "breach_sample_on_tag = all_breaches_df.sample(frac=1, random_state=123)\n",
    "# Sample the dataframe\n",
    "breach_sample_on_tag = breach_sample_on_tag.head(rand_int_datatset_2)\n",
    "\n",
    "#random.sample(all_breaches_df, rand_int_datatset_2)\n",
    "breach_sample_on_tag = breach_sample_on_tag.drop('breach_date', axis=1)\n",
    "breach_sample_on_tag.reset_index(drop=True, inplace=True)\n",
    "breach_sample_on_tag"
   ]
  },
  {
   "cell_type": "code",
   "execution_count": null,
   "metadata": {},
   "outputs": [],
   "source": [
    "#to get gender_guesser working it needs just the 1st name\n",
    "\n",
    "#function to remove titles from \n",
    "def remove_titles(full_name):\n",
    "    pattern = r'\\b(Mr|Mrs|Ms|Dr|Miss|Master|Mister|Mrs.|Mr.|Dr.)\\b'\n",
    "    return re.sub(pattern, '', full_name).strip()\n",
    "\n",
    "# Apply the function to the 'offender_name' column\n",
    "breach_sample_on_tag['offender_name'] = breach_sample_on_tag['offender_name'].apply(remove_titles)\n",
    "\n",
    "def extract_first_name(full_name):\n",
    "    return full_name.split()[0]\n",
    "\n",
    "breach_sample_on_tag['first_name'] = breach_sample_on_tag['offender_name'].apply(extract_first_name)\n",
    "breach_sample_on_tag"
   ]
  },
  {
   "cell_type": "code",
   "execution_count": null,
   "metadata": {},
   "outputs": [],
   "source": [
    "import gender_guesser.detector as gender\n",
    "\n",
    "# Create a gender detector object\n",
    "detector = gender.Detector(case_sensitive=False)\n",
    "\n",
    "#it can't handle full names\n",
    "#detector.get_gender(\"Bob McGee\")\n",
    "#detector.get_gender(\"Bob\")\n",
    "\n",
    "sex_types = [\"male\", \"female\"]\n",
    "tag_types = [\"curfew\", \"alcohol\", \"location\"]\n",
    "ethnic_groups = [\"white\", \"black\", \"mixed\", \"asian\", \"other\", \"unknown\"]\n",
    "offence_groups = [\"Violence against the person\", \"Theft offence\", \"Fraud\", \n",
    "                  \"Criminal Damage\", \"Drug offence\", \"Other Indictable\",\n",
    "                 \"Summary motoring\", \"Summary non-motoring\"]"
   ]
  },
  {
   "cell_type": "code",
   "execution_count": null,
   "metadata": {},
   "outputs": [],
   "source": [
    "#make a separate df for all pilot tagged offenders\n",
    "\n",
    "breached_offender_id_df_2 = breach_sample_on_tag[\"offender_id\"]\n",
    "breached_tag_install_date_df_2= []\n",
    "breached_tag_type_df_2= []\n",
    "breached_dob_df_2= []\n",
    "breached_sex_df_2= []\n",
    "breached_ethnic_group_df_2= []\n",
    "breached_original_offence_df_2= []\n",
    "\n",
    "#need to do separate fake generation for those who have already\n",
    "#breached because we need to guess their gender\n",
    "#ideally this generation of code would be functionalised to reduce code length\n",
    "for i in range(0,len(breach_sample_on_tag)):\n",
    "    \n",
    "    fake_tag_install_date = generate_random_date(\"2022-08-01\", \"2022-12-25\")\n",
    "    fake_tag_type = random.sample(tag_types, 1)\n",
    "    #need to do the str step otherwise the value is a list of length 1\n",
    "    fake_tag_type = str(fake_tag_type[0])\n",
    "    fake_dob = generate_random_date(\"1900-01-01\", \"2022-12-25\")\n",
    "    #guess sex at index\n",
    "    fake_sex = detector.get_gender(breach_sample_on_tag[\"first_name\"][i])\n",
    "    fake_ethnic_group = random.sample(ethnic_groups, 1)\n",
    "    fake_ethnic_group = str(fake_ethnic_group[0])\n",
    "    fake_offence_group = random.sample(offence_groups, 1)\n",
    "    fake_offence_group = str(fake_offence_group[0])\n",
    "\n",
    "    breached_tag_install_date_df_2.append(fake_tag_install_date)\n",
    "    breached_tag_type_df_2.append(fake_tag_type)\n",
    "    breached_dob_df_2.append(fake_dob)\n",
    "    breached_sex_df_2.append(fake_sex)\n",
    "    breached_ethnic_group_df_2.append(fake_ethnic_group)\n",
    "    breached_original_offence_df_2.append(fake_offence_group)\n",
    "\n",
    "breached_tag_df = {\n",
    "    \"offender_id\":breached_offender_id_df_2,\n",
    "    \"tag_install_date\":breached_tag_install_date_df_2,\n",
    "    \"tag_type\":breached_tag_type_df_2,\n",
    "    \"dob\":breached_dob_df_2,\n",
    "    \"sex\":breached_sex_df_2,\n",
    "    \"ethnic_group\":breached_ethnic_group_df_2,\n",
    "    \"original_offence\":breached_original_offence_df_2\n",
    "}\n",
    "breached_tag_df = pd.DataFrame(breached_tag_df)\n",
    "\n",
    "unbreached_offender_id_df_2 = []\n",
    "unbreached_tag_install_date_df_2= []\n",
    "unbreached_tag_type_df_2= []\n",
    "unbreached_dob_df_2= []\n",
    "unbreached_sex_df_2= []\n",
    "unbreached_ethnic_group_df_2= []\n",
    "unbreached_original_offence_df_2= []\n",
    "\n",
    "\n",
    "#want to make 1500- rand_int_datatset_2\n",
    "for i in range(1, (1500-rand_int_datatset_2)+1):\n",
    "    \n",
    "    fake_offender_id = f.bothify(text=\"???####???\", letters=\"ABCDEFGHIJKLMNOPQRSTUVWXYZ\")\n",
    "    fake_tag_install_date = generate_random_date(\"2022-08-01\", \"2022-12-25\")\n",
    "    fake_tag_type = random.sample(tag_types, 1)\n",
    "    fake_tag_type = str(fake_tag_type[0])\n",
    "    fake_dob = generate_random_date(\"1900-01-01\", \"2022-12-25\")\n",
    "    #guess sex at index\n",
    "    fake_sex = random.sample(sex_types, 1)\n",
    "    fake_sex = str(fake_sex[0])\n",
    "    fake_ethnic_group = random.sample(ethnic_groups, 1)\n",
    "    fake_ethnic_group = str(fake_ethnic_group[0])\n",
    "    fake_offence_group = random.sample(offence_groups, 1)\n",
    "    fake_offence_group = str(fake_offence_group[0])\n",
    "\n",
    "    unbreached_offender_id_df_2.append(fake_offender_id)\n",
    "    unbreached_tag_install_date_df_2.append(fake_tag_install_date)\n",
    "    unbreached_tag_type_df_2.append(fake_tag_type)\n",
    "    unbreached_dob_df_2.append(fake_dob)\n",
    "    unbreached_sex_df_2.append(fake_sex)\n",
    "    unbreached_ethnic_group_df_2.append(fake_ethnic_group)\n",
    "    unbreached_original_offence_df_2.append(fake_offence_group)\n",
    "\n",
    "unbreached_tag_df = {\n",
    "    \"offender_id\":unbreached_offender_id_df_2,\n",
    "    \"tag_install_date\":unbreached_tag_install_date_df_2,\n",
    "    \"tag_type\":unbreached_tag_type_df_2,\n",
    "    \"dob\":unbreached_dob_df_2,\n",
    "    \"sex\":unbreached_sex_df_2,\n",
    "    \"ethnic_group\":unbreached_ethnic_group_df_2,\n",
    "    \"original_offence\":unbreached_original_offence_df_2\n",
    "}\n",
    "unbreached_tag_df = pd.DataFrame(unbreached_tag_df)\n",
    "\n",
    "#join df of those who breached so far and the rest in the pilot\n",
    "pilot_tag_df = pd.concat([breached_tag_df, unbreached_tag_df], ignore_index=True)\n",
    "\n",
    "\n",
    "print(len(pilot_tag_df))# checking we have 1500 offender_ids\n"
   ]
  },
  {
   "cell_type": "code",
   "execution_count": null,
   "metadata": {},
   "outputs": [],
   "source": [
    "pilot_tag_df"
   ]
  },
  {
   "cell_type": "code",
   "execution_count": null,
   "metadata": {},
   "outputs": [],
   "source": [
    "pilot_tag_df.dtypes"
   ]
  },
  {
   "cell_type": "code",
   "execution_count": null,
   "metadata": {},
   "outputs": [],
   "source": [
    "#fix some ambiguous results\n",
    "\n",
    "pilot_tag_df.loc[pilot_tag_df[\"sex\"]==\"mostly_female\",\"sex\"] = \"female\"\n",
    "pilot_tag_df.loc[pilot_tag_df[\"sex\"]==\"mostly_male\",\"sex\"] = \"male\"\n",
    "pilot_tag_df.loc[pilot_tag_df[\"sex\"]==\"andy\",\"sex\"] = \"unknown\"\n",
    "\n",
    "pilot_tag_df.sex.unique()\n"
   ]
  },
  {
   "cell_type": "code",
   "execution_count": null,
   "metadata": {},
   "outputs": [],
   "source": [
    "#if we want, we can purposefully add some wrong results e.g. 50 wrong genders\n",
    "#likely not needed right now - want students to focus more actual analysis than data issues"
   ]
  },
  {
   "cell_type": "code",
   "execution_count": null,
   "metadata": {},
   "outputs": [],
   "source": [
    "#write pilot_tag_df as csv\n",
    "pilot_tag_df.to_csv(\"pilot_tag_df.csv\", index=False)"
   ]
  },
  {
   "cell_type": "code",
   "execution_count": null,
   "metadata": {},
   "outputs": [],
   "source": []
  }
 ],
 "metadata": {
  "kernelspec": {
   "display_name": "venv",
   "language": "python",
   "name": "venv"
  },
  "language_info": {
   "codemirror_mode": {
    "name": "ipython",
    "version": 3
   },
   "file_extension": ".py",
   "mimetype": "text/x-python",
   "name": "python",
   "nbconvert_exporter": "python",
   "pygments_lexer": "ipython3",
   "version": "3.7.0"
  }
 },
 "nbformat": 4,
 "nbformat_minor": 2
}
