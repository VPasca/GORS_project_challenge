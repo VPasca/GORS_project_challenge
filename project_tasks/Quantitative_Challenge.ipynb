{
 "cells": [
  {
   "cell_type": "markdown",
   "metadata": {},
   "source": [
    "This notebook provides some rough examples of what can be looked at for the structured data we have. "
   ]
  },
  {
   "cell_type": "code",
   "execution_count": 1,
   "metadata": {},
   "outputs": [],
   "source": [
    "import pandas as pd\n",
    "import numpy as np\n",
    "from datetime import datetime\n",
    "import math\n"
   ]
  },
  {
   "cell_type": "code",
   "execution_count": 2,
   "metadata": {},
   "outputs": [
    {
     "data": {
      "text/html": [
       "<div>\n",
       "<style scoped>\n",
       "    .dataframe tbody tr th:only-of-type {\n",
       "        vertical-align: middle;\n",
       "    }\n",
       "\n",
       "    .dataframe tbody tr th {\n",
       "        vertical-align: top;\n",
       "    }\n",
       "\n",
       "    .dataframe thead th {\n",
       "        text-align: right;\n",
       "    }\n",
       "</style>\n",
       "<table border=\"1\" class=\"dataframe\">\n",
       "  <thead>\n",
       "    <tr style=\"text-align: right;\">\n",
       "      <th></th>\n",
       "      <th>offender_id</th>\n",
       "      <th>offender_name</th>\n",
       "      <th>breach_date</th>\n",
       "    </tr>\n",
       "  </thead>\n",
       "  <tbody>\n",
       "    <tr>\n",
       "      <th>0</th>\n",
       "      <td>KQT6976RLP</td>\n",
       "      <td>Sian Connor</td>\n",
       "      <td>2023-04-15</td>\n",
       "    </tr>\n",
       "    <tr>\n",
       "      <th>1</th>\n",
       "      <td>SYZ9698SND</td>\n",
       "      <td>Mr Thomas Taylor</td>\n",
       "      <td>2023-03-10</td>\n",
       "    </tr>\n",
       "    <tr>\n",
       "      <th>2</th>\n",
       "      <td>COG0444UMC</td>\n",
       "      <td>Dr Debra Jackson</td>\n",
       "      <td>2023-01-28</td>\n",
       "    </tr>\n",
       "    <tr>\n",
       "      <th>3</th>\n",
       "      <td>IOU8015ZFN</td>\n",
       "      <td>Kenneth Baker-Jones</td>\n",
       "      <td>2023-01-10</td>\n",
       "    </tr>\n",
       "    <tr>\n",
       "      <th>4</th>\n",
       "      <td>BVU5951UNP</td>\n",
       "      <td>Mrs Grace Williams</td>\n",
       "      <td>2023-04-08</td>\n",
       "    </tr>\n",
       "    <tr>\n",
       "      <th>...</th>\n",
       "      <td>...</td>\n",
       "      <td>...</td>\n",
       "      <td>...</td>\n",
       "    </tr>\n",
       "    <tr>\n",
       "      <th>15422</th>\n",
       "      <td>PAJ8691NEI</td>\n",
       "      <td>Iain Brown</td>\n",
       "      <td>2023-04-23</td>\n",
       "    </tr>\n",
       "    <tr>\n",
       "      <th>15423</th>\n",
       "      <td>SOT1857NKE</td>\n",
       "      <td>Leslie Hughes</td>\n",
       "      <td>2023-06-01</td>\n",
       "    </tr>\n",
       "    <tr>\n",
       "      <th>15424</th>\n",
       "      <td>PPO2690TXG</td>\n",
       "      <td>Mrs Debra Roberts</td>\n",
       "      <td>2023-02-05</td>\n",
       "    </tr>\n",
       "    <tr>\n",
       "      <th>15425</th>\n",
       "      <td>REA8954BFB</td>\n",
       "      <td>Ms Michelle Williams</td>\n",
       "      <td>2023-02-03</td>\n",
       "    </tr>\n",
       "    <tr>\n",
       "      <th>15426</th>\n",
       "      <td>DEX4248LXZ</td>\n",
       "      <td>Mr Leonard Davies</td>\n",
       "      <td>2023-05-11</td>\n",
       "    </tr>\n",
       "  </tbody>\n",
       "</table>\n",
       "<p>15427 rows × 3 columns</p>\n",
       "</div>"
      ],
      "text/plain": [
       "      offender_id         offender_name breach_date\n",
       "0      KQT6976RLP           Sian Connor  2023-04-15\n",
       "1      SYZ9698SND      Mr Thomas Taylor  2023-03-10\n",
       "2      COG0444UMC      Dr Debra Jackson  2023-01-28\n",
       "3      IOU8015ZFN   Kenneth Baker-Jones  2023-01-10\n",
       "4      BVU5951UNP    Mrs Grace Williams  2023-04-08\n",
       "...           ...                   ...         ...\n",
       "15422  PAJ8691NEI            Iain Brown  2023-04-23\n",
       "15423  SOT1857NKE         Leslie Hughes  2023-06-01\n",
       "15424  PPO2690TXG     Mrs Debra Roberts  2023-02-05\n",
       "15425  REA8954BFB  Ms Michelle Williams  2023-02-03\n",
       "15426  DEX4248LXZ     Mr Leonard Davies  2023-05-11\n",
       "\n",
       "[15427 rows x 3 columns]"
      ]
     },
     "execution_count": 2,
     "metadata": {},
     "output_type": "execute_result"
    }
   ],
   "source": [
    "all_breaches_df = pd.read_csv(\"../fake_data/all_breaches_df.csv\")\n",
    "all_breaches_df"
   ]
  },
  {
   "cell_type": "code",
   "execution_count": 3,
   "metadata": {},
   "outputs": [
    {
     "data": {
      "text/html": [
       "<div>\n",
       "<style scoped>\n",
       "    .dataframe tbody tr th:only-of-type {\n",
       "        vertical-align: middle;\n",
       "    }\n",
       "\n",
       "    .dataframe tbody tr th {\n",
       "        vertical-align: top;\n",
       "    }\n",
       "\n",
       "    .dataframe thead th {\n",
       "        text-align: right;\n",
       "    }\n",
       "</style>\n",
       "<table border=\"1\" class=\"dataframe\">\n",
       "  <thead>\n",
       "    <tr style=\"text-align: right;\">\n",
       "      <th></th>\n",
       "      <th>offender_id</th>\n",
       "      <th>tag_install_date</th>\n",
       "      <th>tag_type</th>\n",
       "      <th>dob</th>\n",
       "      <th>sex</th>\n",
       "      <th>ethnic_group</th>\n",
       "      <th>original_offence</th>\n",
       "    </tr>\n",
       "  </thead>\n",
       "  <tbody>\n",
       "    <tr>\n",
       "      <th>0</th>\n",
       "      <td>YEG6518QIV</td>\n",
       "      <td>2022-11-19</td>\n",
       "      <td>alcohol</td>\n",
       "      <td>1994-06-19</td>\n",
       "      <td>male</td>\n",
       "      <td>asian</td>\n",
       "      <td>Summary non-motoring</td>\n",
       "    </tr>\n",
       "    <tr>\n",
       "      <th>1</th>\n",
       "      <td>JME7219QND</td>\n",
       "      <td>2022-09-02</td>\n",
       "      <td>location</td>\n",
       "      <td>1986-09-19</td>\n",
       "      <td>female</td>\n",
       "      <td>white</td>\n",
       "      <td>Violence against the person</td>\n",
       "    </tr>\n",
       "    <tr>\n",
       "      <th>2</th>\n",
       "      <td>WSO1347WIQ</td>\n",
       "      <td>2022-10-10</td>\n",
       "      <td>curfew</td>\n",
       "      <td>1988-10-05</td>\n",
       "      <td>male</td>\n",
       "      <td>other</td>\n",
       "      <td>Drug offence</td>\n",
       "    </tr>\n",
       "    <tr>\n",
       "      <th>3</th>\n",
       "      <td>TUP1206QEM</td>\n",
       "      <td>2022-12-14</td>\n",
       "      <td>location</td>\n",
       "      <td>1953-12-28</td>\n",
       "      <td>male</td>\n",
       "      <td>other</td>\n",
       "      <td>Theft offence</td>\n",
       "    </tr>\n",
       "    <tr>\n",
       "      <th>4</th>\n",
       "      <td>AVL7422VBW</td>\n",
       "      <td>2022-08-11</td>\n",
       "      <td>alcohol</td>\n",
       "      <td>1982-04-20</td>\n",
       "      <td>female</td>\n",
       "      <td>mixed</td>\n",
       "      <td>Theft offence</td>\n",
       "    </tr>\n",
       "    <tr>\n",
       "      <th>...</th>\n",
       "      <td>...</td>\n",
       "      <td>...</td>\n",
       "      <td>...</td>\n",
       "      <td>...</td>\n",
       "      <td>...</td>\n",
       "      <td>...</td>\n",
       "      <td>...</td>\n",
       "    </tr>\n",
       "    <tr>\n",
       "      <th>1495</th>\n",
       "      <td>IUO5853OWY</td>\n",
       "      <td>2022-09-26</td>\n",
       "      <td>location</td>\n",
       "      <td>2019-04-08</td>\n",
       "      <td>female</td>\n",
       "      <td>black</td>\n",
       "      <td>Summary motoring</td>\n",
       "    </tr>\n",
       "    <tr>\n",
       "      <th>1496</th>\n",
       "      <td>IFV7146YSR</td>\n",
       "      <td>2022-10-16</td>\n",
       "      <td>alcohol</td>\n",
       "      <td>1901-02-06</td>\n",
       "      <td>male</td>\n",
       "      <td>unknown</td>\n",
       "      <td>Criminal Damage</td>\n",
       "    </tr>\n",
       "    <tr>\n",
       "      <th>1497</th>\n",
       "      <td>RON5494GDR</td>\n",
       "      <td>2022-09-08</td>\n",
       "      <td>curfew</td>\n",
       "      <td>1995-10-06</td>\n",
       "      <td>male</td>\n",
       "      <td>unknown</td>\n",
       "      <td>Summary motoring</td>\n",
       "    </tr>\n",
       "    <tr>\n",
       "      <th>1498</th>\n",
       "      <td>CYZ8570YTW</td>\n",
       "      <td>2022-09-19</td>\n",
       "      <td>location</td>\n",
       "      <td>1916-05-15</td>\n",
       "      <td>male</td>\n",
       "      <td>other</td>\n",
       "      <td>Summary non-motoring</td>\n",
       "    </tr>\n",
       "    <tr>\n",
       "      <th>1499</th>\n",
       "      <td>VOA5131CTD</td>\n",
       "      <td>2022-09-08</td>\n",
       "      <td>alcohol</td>\n",
       "      <td>1923-11-26</td>\n",
       "      <td>female</td>\n",
       "      <td>asian</td>\n",
       "      <td>Criminal Damage</td>\n",
       "    </tr>\n",
       "  </tbody>\n",
       "</table>\n",
       "<p>1500 rows × 7 columns</p>\n",
       "</div>"
      ],
      "text/plain": [
       "     offender_id tag_install_date  tag_type         dob     sex ethnic_group  \\\n",
       "0     YEG6518QIV       2022-11-19   alcohol  1994-06-19    male        asian   \n",
       "1     JME7219QND       2022-09-02  location  1986-09-19  female        white   \n",
       "2     WSO1347WIQ       2022-10-10    curfew  1988-10-05    male        other   \n",
       "3     TUP1206QEM       2022-12-14  location  1953-12-28    male        other   \n",
       "4     AVL7422VBW       2022-08-11   alcohol  1982-04-20  female        mixed   \n",
       "...          ...              ...       ...         ...     ...          ...   \n",
       "1495  IUO5853OWY       2022-09-26  location  2019-04-08  female        black   \n",
       "1496  IFV7146YSR       2022-10-16   alcohol  1901-02-06    male      unknown   \n",
       "1497  RON5494GDR       2022-09-08    curfew  1995-10-06    male      unknown   \n",
       "1498  CYZ8570YTW       2022-09-19  location  1916-05-15    male        other   \n",
       "1499  VOA5131CTD       2022-09-08   alcohol  1923-11-26  female        asian   \n",
       "\n",
       "                 original_offence  \n",
       "0            Summary non-motoring  \n",
       "1     Violence against the person  \n",
       "2                    Drug offence  \n",
       "3                   Theft offence  \n",
       "4                   Theft offence  \n",
       "...                           ...  \n",
       "1495             Summary motoring  \n",
       "1496              Criminal Damage  \n",
       "1497             Summary motoring  \n",
       "1498         Summary non-motoring  \n",
       "1499              Criminal Damage  \n",
       "\n",
       "[1500 rows x 7 columns]"
      ]
     },
     "execution_count": 3,
     "metadata": {},
     "output_type": "execute_result"
    }
   ],
   "source": [
    "pilot_tag_df = pd.read_csv(\"../fake_data/pilot_tag_df.csv\")\n",
    "pilot_tag_df"
   ]
  },
  {
   "cell_type": "markdown",
   "metadata": {},
   "source": [
    "## Data Quality and Initial probing"
   ]
  },
  {
   "cell_type": "code",
   "execution_count": 4,
   "metadata": {},
   "outputs": [
    {
     "name": "stdout",
     "output_type": "stream",
     "text": [
      "offender_id      object\n",
      "offender_name    object\n",
      "breach_date      object\n",
      "dtype: object\n",
      "offender_id         object\n",
      "tag_install_date    object\n",
      "tag_type            object\n",
      "dob                 object\n",
      "sex                 object\n",
      "ethnic_group        object\n",
      "original_offence    object\n",
      "dtype: object\n"
     ]
    }
   ],
   "source": [
    "#what are the types of these columns?\n",
    "\n",
    "print(all_breaches_df.dtypes)\n",
    "print(pilot_tag_df.dtypes)\n",
    "\n",
    "#\"object\" columns are usually strings"
   ]
  },
  {
   "cell_type": "code",
   "execution_count": 5,
   "metadata": {},
   "outputs": [],
   "source": [
    "#define a function to get counts of category columns\n",
    "def get_category_counts(df, column_name):\n",
    "    category_counts = df[column_name].value_counts()\n",
    "    return category_counts\n"
   ]
  },
  {
   "cell_type": "code",
   "execution_count": 6,
   "metadata": {},
   "outputs": [
    {
     "data": {
      "text/plain": [
       "female     768\n",
       "male       731\n",
       "unknown      1\n",
       "Name: sex, dtype: int64"
      ]
     },
     "execution_count": 6,
     "metadata": {},
     "output_type": "execute_result"
    }
   ],
   "source": [
    "get_category_counts(pilot_tag_df,\"sex\")"
   ]
  },
  {
   "cell_type": "code",
   "execution_count": 7,
   "metadata": {},
   "outputs": [
    {
     "data": {
      "text/plain": [
       "unknown    261\n",
       "black      256\n",
       "other      252\n",
       "white      249\n",
       "asian      248\n",
       "mixed      234\n",
       "Name: ethnic_group, dtype: int64"
      ]
     },
     "execution_count": 7,
     "metadata": {},
     "output_type": "execute_result"
    }
   ],
   "source": [
    "get_category_counts(pilot_tag_df,\"ethnic_group\")"
   ]
  },
  {
   "cell_type": "code",
   "execution_count": 8,
   "metadata": {},
   "outputs": [
    {
     "data": {
      "text/plain": [
       "Summary motoring               232\n",
       "Drug offence                   193\n",
       "Summary non-motoring           188\n",
       "Other Indictable               183\n",
       "Criminal Damage                179\n",
       "Violence against the person    179\n",
       "Theft offence                  175\n",
       "Fraud                          171\n",
       "Name: original_offence, dtype: int64"
      ]
     },
     "execution_count": 8,
     "metadata": {},
     "output_type": "execute_result"
    }
   ],
   "source": [
    "get_category_counts(pilot_tag_df,\"original_offence\")"
   ]
  },
  {
   "cell_type": "code",
   "execution_count": 9,
   "metadata": {},
   "outputs": [
    {
     "name": "stdout",
     "output_type": "stream",
     "text": [
      "False\n",
      "False\n"
     ]
    }
   ],
   "source": [
    "#are there any duplicate offender_ids?\n",
    "\n",
    "def check_duplicates(df, column_name):\n",
    "    duplicates = df.duplicated(subset=[column_name])\n",
    "    return duplicates.any()\n",
    "\n",
    "print(check_duplicates(all_breaches_df, 'offender_id'))\n",
    "print(check_duplicates(pilot_tag_df, 'offender_id'))\n",
    "\n",
    "#if there were duplicates, need to decide what to do with them\n",
    "#can you identify which are the same person without doubt?\n",
    "#if not, how much of the population does it impact? would excluding them jeopardise the analysis?"
   ]
  },
  {
   "cell_type": "code",
   "execution_count": 10,
   "metadata": {},
   "outputs": [
    {
     "data": {
      "text/plain": [
       "'1994-06-19'"
      ]
     },
     "execution_count": 10,
     "metadata": {},
     "output_type": "execute_result"
    }
   ],
   "source": [
    "pilot_tag_df[\"dob\"][0]"
   ]
  },
  {
   "cell_type": "code",
   "execution_count": 11,
   "metadata": {},
   "outputs": [
    {
     "name": "stdout",
     "output_type": "stream",
     "text": [
      "Invalid values found in column 'tag_install_date'. 1 rows removed.\n"
     ]
    }
   ],
   "source": [
    "#do a sense check on some columns\n",
    "\n",
    "#e.g. is it ever the case that dob is smaller than tag_install_date\n",
    "\n",
    "def remove_invalid_dates(df, date_of_birth_col_name, date_col_name):\n",
    "    date_of_birth = pd.to_datetime(df[date_of_birth_col_name])\n",
    "    date_col = pd.to_datetime(df[date_col_name])\n",
    "    \n",
    "    invalid_dates = df[date_col < date_of_birth]\n",
    "    df.drop(invalid_dates.index, inplace=True)\n",
    "    \n",
    "    if len(invalid_dates) > 0:\n",
    "        print(f\"Invalid values found in column '{date_col_name}'. {len(invalid_dates)} rows removed.\")\n",
    "    \n",
    "    return df\n",
    "\n",
    "pilot_tag_df = remove_invalid_dates(pilot_tag_df, 'dob', 'tag_install_date')"
   ]
  },
  {
   "cell_type": "code",
   "execution_count": 12,
   "metadata": {},
   "outputs": [],
   "source": [
    "#are there any missing values in any of the columns?\n",
    "\n",
    "def check_missing_values(df):\n",
    "    missing_values = df.isnull().any()\n",
    "    return missing_values\n"
   ]
  },
  {
   "cell_type": "code",
   "execution_count": 13,
   "metadata": {},
   "outputs": [
    {
     "name": "stdout",
     "output_type": "stream",
     "text": [
      "No missing values found in any columns.\n"
     ]
    }
   ],
   "source": [
    "\n",
    "has_missing_values = check_missing_values(pilot_tag_df)\n",
    "missing_columns = has_missing_values[has_missing_values].index.tolist()\n",
    "\n",
    "if has_missing_values.any():\n",
    "    print(\"Missing values found in the following columns:\")\n",
    "    print(missing_columns)\n",
    "else:\n",
    "    print(\"No missing values found in any columns.\")"
   ]
  },
  {
   "cell_type": "code",
   "execution_count": 14,
   "metadata": {},
   "outputs": [
    {
     "name": "stdout",
     "output_type": "stream",
     "text": [
      "No missing values found in any columns.\n"
     ]
    }
   ],
   "source": [
    "\n",
    "has_missing_values = check_missing_values(all_breaches_df)\n",
    "missing_columns = has_missing_values[has_missing_values].index.tolist()\n",
    "\n",
    "if has_missing_values.any():\n",
    "    print(\"Missing values found in the following columns:\")\n",
    "    print(missing_columns)\n",
    "else:\n",
    "    print(\"No missing values found in any columns.\")"
   ]
  },
  {
   "cell_type": "markdown",
   "metadata": {},
   "source": [
    "## Some exploratory analysis"
   ]
  },
  {
   "cell_type": "code",
   "execution_count": 15,
   "metadata": {},
   "outputs": [
    {
     "data": {
      "text/plain": [
       "offender_id         object\n",
       "tag_install_date    object\n",
       "tag_type            object\n",
       "dob                 object\n",
       "sex                 object\n",
       "ethnic_group        object\n",
       "original_offence    object\n",
       "dtype: object"
      ]
     },
     "execution_count": 15,
     "metadata": {},
     "output_type": "execute_result"
    }
   ],
   "source": [
    "pilot_tag_df.dtypes"
   ]
  },
  {
   "cell_type": "code",
   "execution_count": 16,
   "metadata": {},
   "outputs": [
    {
     "data": {
      "text/plain": [
       "count    1499.000000\n",
       "mean       59.160107\n",
       "std        35.288243\n",
       "min         0.000000\n",
       "25%        28.000000\n",
       "50%        57.000000\n",
       "75%        90.000000\n",
       "max       122.000000\n",
       "Name: age_at_tag_install, dtype: float64"
      ]
     },
     "execution_count": 16,
     "metadata": {},
     "output_type": "execute_result"
    }
   ],
   "source": [
    "#make an age_at_tag column (what age the offender was when they got the tag installed)\n",
    "\n",
    "# Convert string dates to datetime objects\n",
    "pilot_tag_df['dob'] = pd.to_datetime(pilot_tag_df['dob'])\n",
    "pilot_tag_df['tag_install_date'] = pd.to_datetime(pilot_tag_df['tag_install_date'])\n",
    "\n",
    "# Calculate the difference in years\n",
    "pilot_tag_df['age_at_tag_install'] = (pilot_tag_df['tag_install_date'] - pilot_tag_df['dob']).dt.days / 365\n",
    "pilot_tag_df['age_at_tag_install'] = pilot_tag_df['age_at_tag_install'].astype(int)\n",
    "#pilot_tag_df\n",
    "pilot_tag_df['age_at_tag_install'].describe()"
   ]
  },
  {
   "cell_type": "code",
   "execution_count": 17,
   "metadata": {},
   "outputs": [
    {
     "data": {
      "text/html": [
       "<div>\n",
       "<style scoped>\n",
       "    .dataframe tbody tr th:only-of-type {\n",
       "        vertical-align: middle;\n",
       "    }\n",
       "\n",
       "    .dataframe tbody tr th {\n",
       "        vertical-align: top;\n",
       "    }\n",
       "\n",
       "    .dataframe thead th {\n",
       "        text-align: right;\n",
       "    }\n",
       "</style>\n",
       "<table border=\"1\" class=\"dataframe\">\n",
       "  <thead>\n",
       "    <tr style=\"text-align: right;\">\n",
       "      <th></th>\n",
       "      <th>offender_id</th>\n",
       "      <th>tag_install_date</th>\n",
       "      <th>tag_type</th>\n",
       "      <th>dob</th>\n",
       "      <th>sex</th>\n",
       "      <th>ethnic_group</th>\n",
       "      <th>original_offence</th>\n",
       "      <th>age_at_tag_install</th>\n",
       "    </tr>\n",
       "  </thead>\n",
       "  <tbody>\n",
       "    <tr>\n",
       "      <th>0</th>\n",
       "      <td>YEG6518QIV</td>\n",
       "      <td>2022-11-19</td>\n",
       "      <td>alcohol</td>\n",
       "      <td>1994-06-19</td>\n",
       "      <td>male</td>\n",
       "      <td>asian</td>\n",
       "      <td>Summary non-motoring</td>\n",
       "      <td>28</td>\n",
       "    </tr>\n",
       "    <tr>\n",
       "      <th>1</th>\n",
       "      <td>JME7219QND</td>\n",
       "      <td>2022-09-02</td>\n",
       "      <td>location</td>\n",
       "      <td>1986-09-19</td>\n",
       "      <td>female</td>\n",
       "      <td>white</td>\n",
       "      <td>Violence against the person</td>\n",
       "      <td>35</td>\n",
       "    </tr>\n",
       "    <tr>\n",
       "      <th>2</th>\n",
       "      <td>WSO1347WIQ</td>\n",
       "      <td>2022-10-10</td>\n",
       "      <td>curfew</td>\n",
       "      <td>1988-10-05</td>\n",
       "      <td>male</td>\n",
       "      <td>other</td>\n",
       "      <td>Drug offence</td>\n",
       "      <td>34</td>\n",
       "    </tr>\n",
       "    <tr>\n",
       "      <th>3</th>\n",
       "      <td>TUP1206QEM</td>\n",
       "      <td>2022-12-14</td>\n",
       "      <td>location</td>\n",
       "      <td>1953-12-28</td>\n",
       "      <td>male</td>\n",
       "      <td>other</td>\n",
       "      <td>Theft offence</td>\n",
       "      <td>69</td>\n",
       "    </tr>\n",
       "    <tr>\n",
       "      <th>4</th>\n",
       "      <td>AVL7422VBW</td>\n",
       "      <td>2022-08-11</td>\n",
       "      <td>alcohol</td>\n",
       "      <td>1982-04-20</td>\n",
       "      <td>female</td>\n",
       "      <td>mixed</td>\n",
       "      <td>Theft offence</td>\n",
       "      <td>40</td>\n",
       "    </tr>\n",
       "    <tr>\n",
       "      <th>...</th>\n",
       "      <td>...</td>\n",
       "      <td>...</td>\n",
       "      <td>...</td>\n",
       "      <td>...</td>\n",
       "      <td>...</td>\n",
       "      <td>...</td>\n",
       "      <td>...</td>\n",
       "      <td>...</td>\n",
       "    </tr>\n",
       "    <tr>\n",
       "      <th>1274</th>\n",
       "      <td>TLE7766TYO</td>\n",
       "      <td>2022-08-10</td>\n",
       "      <td>curfew</td>\n",
       "      <td>1961-09-26</td>\n",
       "      <td>male</td>\n",
       "      <td>asian</td>\n",
       "      <td>Fraud</td>\n",
       "      <td>60</td>\n",
       "    </tr>\n",
       "    <tr>\n",
       "      <th>1275</th>\n",
       "      <td>IFV7146YSR</td>\n",
       "      <td>2022-10-16</td>\n",
       "      <td>alcohol</td>\n",
       "      <td>1901-02-06</td>\n",
       "      <td>male</td>\n",
       "      <td>unknown</td>\n",
       "      <td>Criminal Damage</td>\n",
       "      <td>121</td>\n",
       "    </tr>\n",
       "    <tr>\n",
       "      <th>1276</th>\n",
       "      <td>RON5494GDR</td>\n",
       "      <td>2022-09-08</td>\n",
       "      <td>curfew</td>\n",
       "      <td>1995-10-06</td>\n",
       "      <td>male</td>\n",
       "      <td>unknown</td>\n",
       "      <td>Summary motoring</td>\n",
       "      <td>26</td>\n",
       "    </tr>\n",
       "    <tr>\n",
       "      <th>1277</th>\n",
       "      <td>CYZ8570YTW</td>\n",
       "      <td>2022-09-19</td>\n",
       "      <td>location</td>\n",
       "      <td>1916-05-15</td>\n",
       "      <td>male</td>\n",
       "      <td>other</td>\n",
       "      <td>Summary non-motoring</td>\n",
       "      <td>106</td>\n",
       "    </tr>\n",
       "    <tr>\n",
       "      <th>1278</th>\n",
       "      <td>VOA5131CTD</td>\n",
       "      <td>2022-09-08</td>\n",
       "      <td>alcohol</td>\n",
       "      <td>1923-11-26</td>\n",
       "      <td>female</td>\n",
       "      <td>asian</td>\n",
       "      <td>Criminal Damage</td>\n",
       "      <td>98</td>\n",
       "    </tr>\n",
       "  </tbody>\n",
       "</table>\n",
       "<p>1279 rows × 8 columns</p>\n",
       "</div>"
      ],
      "text/plain": [
       "     offender_id tag_install_date  tag_type        dob     sex ethnic_group  \\\n",
       "0     YEG6518QIV       2022-11-19   alcohol 1994-06-19    male        asian   \n",
       "1     JME7219QND       2022-09-02  location 1986-09-19  female        white   \n",
       "2     WSO1347WIQ       2022-10-10    curfew 1988-10-05    male        other   \n",
       "3     TUP1206QEM       2022-12-14  location 1953-12-28    male        other   \n",
       "4     AVL7422VBW       2022-08-11   alcohol 1982-04-20  female        mixed   \n",
       "...          ...              ...       ...        ...     ...          ...   \n",
       "1274  TLE7766TYO       2022-08-10    curfew 1961-09-26    male        asian   \n",
       "1275  IFV7146YSR       2022-10-16   alcohol 1901-02-06    male      unknown   \n",
       "1276  RON5494GDR       2022-09-08    curfew 1995-10-06    male      unknown   \n",
       "1277  CYZ8570YTW       2022-09-19  location 1916-05-15    male        other   \n",
       "1278  VOA5131CTD       2022-09-08   alcohol 1923-11-26  female        asian   \n",
       "\n",
       "                 original_offence  age_at_tag_install  \n",
       "0            Summary non-motoring                  28  \n",
       "1     Violence against the person                  35  \n",
       "2                    Drug offence                  34  \n",
       "3                   Theft offence                  69  \n",
       "4                   Theft offence                  40  \n",
       "...                           ...                 ...  \n",
       "1274                        Fraud                  60  \n",
       "1275              Criminal Damage                 121  \n",
       "1276             Summary motoring                  26  \n",
       "1277         Summary non-motoring                 106  \n",
       "1278              Criminal Damage                  98  \n",
       "\n",
       "[1279 rows x 8 columns]"
      ]
     },
     "execution_count": 17,
     "metadata": {},
     "output_type": "execute_result"
    }
   ],
   "source": [
    "#filter out any rows with age_at_tag_install less than 18 years old\n",
    "#possibly erroneous\n",
    "pilot_tag_df = pilot_tag_df[pilot_tag_df[\"age_at_tag_install\"]>17].reset_index(drop=True)\n",
    "pilot_tag_df"
   ]
  },
  {
   "cell_type": "code",
   "execution_count": 18,
   "metadata": {},
   "outputs": [],
   "source": [
    "#it is optional here if you want to remove outliers\n",
    "#although in real analyses you'd probably want to consider what an outlier means in your data\n",
    "#is it actually an outlier, what would the impact be of removing it"
   ]
  },
  {
   "cell_type": "code",
   "execution_count": 19,
   "metadata": {},
   "outputs": [
    {
     "data": {
      "text/plain": [
       "[21-30, 31-40, 61-70, 41-50, 51-60, ..., 81-90, 91-100, 101-110, 121-130, 11-20]\n",
       "Length: 12\n",
       "Categories (12, object): [11-20 < 21-30 < 31-40 < 41-50 ... 91-100 < 101-110 < 111-120 < 121-130]"
      ]
     },
     "execution_count": 19,
     "metadata": {},
     "output_type": "execute_result"
    }
   ],
   "source": [
    "#assign age groups\n",
    "\n",
    "# Calculate the maximum value in the 'YearDiff' column\n",
    "max_value = math.ceil(pilot_tag_df['age_at_tag_install'].max() / 10) * 10\n",
    "\n",
    "# Define the category ranges\n",
    "category_ranges = range(10, max_value + 10, 10)  # Creates ranges of 10-20, 20-30, etc.\n",
    "\n",
    "# Create the categories using pd.cut()\n",
    "pilot_tag_df['age_group'] = pd.cut(pilot_tag_df['age_at_tag_install'], bins=category_ranges, right=False)\n",
    "\n",
    "# Adjust the category labels to represent the corresponding range as strings\n",
    "pilot_tag_df['age_group'] = pilot_tag_df['age_group'].apply(lambda x: f'{x.left + 1}-{x.right}')\n",
    "\n",
    "\n",
    "pilot_tag_df[\"age_group\"].unique()"
   ]
  },
  {
   "cell_type": "code",
   "execution_count": 20,
   "metadata": {},
   "outputs": [
    {
     "data": {
      "text/html": [
       "<div>\n",
       "<style scoped>\n",
       "    .dataframe tbody tr th:only-of-type {\n",
       "        vertical-align: middle;\n",
       "    }\n",
       "\n",
       "    .dataframe tbody tr th {\n",
       "        vertical-align: top;\n",
       "    }\n",
       "\n",
       "    .dataframe thead th {\n",
       "        text-align: right;\n",
       "    }\n",
       "</style>\n",
       "<table border=\"1\" class=\"dataframe\">\n",
       "  <thead>\n",
       "    <tr style=\"text-align: right;\">\n",
       "      <th></th>\n",
       "      <th>offender_id</th>\n",
       "      <th>tag_install_date</th>\n",
       "      <th>tag_type</th>\n",
       "      <th>dob</th>\n",
       "      <th>sex</th>\n",
       "      <th>ethnic_group</th>\n",
       "      <th>original_offence</th>\n",
       "      <th>age_at_tag_install</th>\n",
       "      <th>age_group</th>\n",
       "    </tr>\n",
       "  </thead>\n",
       "  <tbody>\n",
       "    <tr>\n",
       "      <th>0</th>\n",
       "      <td>YEG6518QIV</td>\n",
       "      <td>2022-11-19</td>\n",
       "      <td>alcohol</td>\n",
       "      <td>1994-06-19</td>\n",
       "      <td>male</td>\n",
       "      <td>asian</td>\n",
       "      <td>Summary non-motoring</td>\n",
       "      <td>28</td>\n",
       "      <td>21-30</td>\n",
       "    </tr>\n",
       "    <tr>\n",
       "      <th>1</th>\n",
       "      <td>JME7219QND</td>\n",
       "      <td>2022-09-02</td>\n",
       "      <td>location</td>\n",
       "      <td>1986-09-19</td>\n",
       "      <td>female</td>\n",
       "      <td>white</td>\n",
       "      <td>Violence against the person</td>\n",
       "      <td>35</td>\n",
       "      <td>31-40</td>\n",
       "    </tr>\n",
       "    <tr>\n",
       "      <th>2</th>\n",
       "      <td>WSO1347WIQ</td>\n",
       "      <td>2022-10-10</td>\n",
       "      <td>curfew</td>\n",
       "      <td>1988-10-05</td>\n",
       "      <td>male</td>\n",
       "      <td>other</td>\n",
       "      <td>Drug offence</td>\n",
       "      <td>34</td>\n",
       "      <td>31-40</td>\n",
       "    </tr>\n",
       "    <tr>\n",
       "      <th>3</th>\n",
       "      <td>TUP1206QEM</td>\n",
       "      <td>2022-12-14</td>\n",
       "      <td>location</td>\n",
       "      <td>1953-12-28</td>\n",
       "      <td>male</td>\n",
       "      <td>other</td>\n",
       "      <td>Theft offence</td>\n",
       "      <td>69</td>\n",
       "      <td>61-70</td>\n",
       "    </tr>\n",
       "    <tr>\n",
       "      <th>4</th>\n",
       "      <td>AVL7422VBW</td>\n",
       "      <td>2022-08-11</td>\n",
       "      <td>alcohol</td>\n",
       "      <td>1982-04-20</td>\n",
       "      <td>female</td>\n",
       "      <td>mixed</td>\n",
       "      <td>Theft offence</td>\n",
       "      <td>40</td>\n",
       "      <td>41-50</td>\n",
       "    </tr>\n",
       "    <tr>\n",
       "      <th>...</th>\n",
       "      <td>...</td>\n",
       "      <td>...</td>\n",
       "      <td>...</td>\n",
       "      <td>...</td>\n",
       "      <td>...</td>\n",
       "      <td>...</td>\n",
       "      <td>...</td>\n",
       "      <td>...</td>\n",
       "      <td>...</td>\n",
       "    </tr>\n",
       "    <tr>\n",
       "      <th>1274</th>\n",
       "      <td>TLE7766TYO</td>\n",
       "      <td>2022-08-10</td>\n",
       "      <td>curfew</td>\n",
       "      <td>1961-09-26</td>\n",
       "      <td>male</td>\n",
       "      <td>asian</td>\n",
       "      <td>Fraud</td>\n",
       "      <td>60</td>\n",
       "      <td>61-70</td>\n",
       "    </tr>\n",
       "    <tr>\n",
       "      <th>1275</th>\n",
       "      <td>IFV7146YSR</td>\n",
       "      <td>2022-10-16</td>\n",
       "      <td>alcohol</td>\n",
       "      <td>1901-02-06</td>\n",
       "      <td>male</td>\n",
       "      <td>unknown</td>\n",
       "      <td>Criminal Damage</td>\n",
       "      <td>121</td>\n",
       "      <td>121-130</td>\n",
       "    </tr>\n",
       "    <tr>\n",
       "      <th>1276</th>\n",
       "      <td>RON5494GDR</td>\n",
       "      <td>2022-09-08</td>\n",
       "      <td>curfew</td>\n",
       "      <td>1995-10-06</td>\n",
       "      <td>male</td>\n",
       "      <td>unknown</td>\n",
       "      <td>Summary motoring</td>\n",
       "      <td>26</td>\n",
       "      <td>21-30</td>\n",
       "    </tr>\n",
       "    <tr>\n",
       "      <th>1277</th>\n",
       "      <td>CYZ8570YTW</td>\n",
       "      <td>2022-09-19</td>\n",
       "      <td>location</td>\n",
       "      <td>1916-05-15</td>\n",
       "      <td>male</td>\n",
       "      <td>other</td>\n",
       "      <td>Summary non-motoring</td>\n",
       "      <td>106</td>\n",
       "      <td>101-110</td>\n",
       "    </tr>\n",
       "    <tr>\n",
       "      <th>1278</th>\n",
       "      <td>VOA5131CTD</td>\n",
       "      <td>2022-09-08</td>\n",
       "      <td>alcohol</td>\n",
       "      <td>1923-11-26</td>\n",
       "      <td>female</td>\n",
       "      <td>asian</td>\n",
       "      <td>Criminal Damage</td>\n",
       "      <td>98</td>\n",
       "      <td>91-100</td>\n",
       "    </tr>\n",
       "  </tbody>\n",
       "</table>\n",
       "<p>1279 rows × 9 columns</p>\n",
       "</div>"
      ],
      "text/plain": [
       "     offender_id tag_install_date  tag_type        dob     sex ethnic_group  \\\n",
       "0     YEG6518QIV       2022-11-19   alcohol 1994-06-19    male        asian   \n",
       "1     JME7219QND       2022-09-02  location 1986-09-19  female        white   \n",
       "2     WSO1347WIQ       2022-10-10    curfew 1988-10-05    male        other   \n",
       "3     TUP1206QEM       2022-12-14  location 1953-12-28    male        other   \n",
       "4     AVL7422VBW       2022-08-11   alcohol 1982-04-20  female        mixed   \n",
       "...          ...              ...       ...        ...     ...          ...   \n",
       "1274  TLE7766TYO       2022-08-10    curfew 1961-09-26    male        asian   \n",
       "1275  IFV7146YSR       2022-10-16   alcohol 1901-02-06    male      unknown   \n",
       "1276  RON5494GDR       2022-09-08    curfew 1995-10-06    male      unknown   \n",
       "1277  CYZ8570YTW       2022-09-19  location 1916-05-15    male        other   \n",
       "1278  VOA5131CTD       2022-09-08   alcohol 1923-11-26  female        asian   \n",
       "\n",
       "                 original_offence  age_at_tag_install age_group  \n",
       "0            Summary non-motoring                  28     21-30  \n",
       "1     Violence against the person                  35     31-40  \n",
       "2                    Drug offence                  34     31-40  \n",
       "3                   Theft offence                  69     61-70  \n",
       "4                   Theft offence                  40     41-50  \n",
       "...                           ...                 ...       ...  \n",
       "1274                        Fraud                  60     61-70  \n",
       "1275              Criminal Damage                 121   121-130  \n",
       "1276             Summary motoring                  26     21-30  \n",
       "1277         Summary non-motoring                 106   101-110  \n",
       "1278              Criminal Damage                  98    91-100  \n",
       "\n",
       "[1279 rows x 9 columns]"
      ]
     },
     "execution_count": 20,
     "metadata": {},
     "output_type": "execute_result"
    }
   ],
   "source": [
    "pilot_tag_df"
   ]
  },
  {
   "cell_type": "code",
   "execution_count": 21,
   "metadata": {},
   "outputs": [
    {
     "data": {
      "text/html": [
       "<div>\n",
       "<style scoped>\n",
       "    .dataframe tbody tr th:only-of-type {\n",
       "        vertical-align: middle;\n",
       "    }\n",
       "\n",
       "    .dataframe tbody tr th {\n",
       "        vertical-align: top;\n",
       "    }\n",
       "\n",
       "    .dataframe thead th {\n",
       "        text-align: right;\n",
       "    }\n",
       "</style>\n",
       "<table border=\"1\" class=\"dataframe\">\n",
       "  <thead>\n",
       "    <tr style=\"text-align: right;\">\n",
       "      <th></th>\n",
       "      <th>offender_id</th>\n",
       "      <th>tag_install_date</th>\n",
       "      <th>tag_type</th>\n",
       "      <th>dob</th>\n",
       "      <th>sex</th>\n",
       "      <th>ethnic_group</th>\n",
       "      <th>original_offence</th>\n",
       "      <th>age_at_tag_install</th>\n",
       "      <th>age_group</th>\n",
       "      <th>offender_name</th>\n",
       "      <th>breach_date</th>\n",
       "    </tr>\n",
       "  </thead>\n",
       "  <tbody>\n",
       "    <tr>\n",
       "      <th>0</th>\n",
       "      <td>YEG6518QIV</td>\n",
       "      <td>2022-11-19</td>\n",
       "      <td>alcohol</td>\n",
       "      <td>1994-06-19</td>\n",
       "      <td>male</td>\n",
       "      <td>asian</td>\n",
       "      <td>Summary non-motoring</td>\n",
       "      <td>28</td>\n",
       "      <td>21-30</td>\n",
       "      <td>Ricky Booth</td>\n",
       "      <td>2023-03-11</td>\n",
       "    </tr>\n",
       "    <tr>\n",
       "      <th>1</th>\n",
       "      <td>JME7219QND</td>\n",
       "      <td>2022-09-02</td>\n",
       "      <td>location</td>\n",
       "      <td>1986-09-19</td>\n",
       "      <td>female</td>\n",
       "      <td>white</td>\n",
       "      <td>Violence against the person</td>\n",
       "      <td>35</td>\n",
       "      <td>31-40</td>\n",
       "      <td>Dr Charlene Jordan</td>\n",
       "      <td>2023-03-05</td>\n",
       "    </tr>\n",
       "    <tr>\n",
       "      <th>2</th>\n",
       "      <td>WSO1347WIQ</td>\n",
       "      <td>2022-10-10</td>\n",
       "      <td>curfew</td>\n",
       "      <td>1988-10-05</td>\n",
       "      <td>male</td>\n",
       "      <td>other</td>\n",
       "      <td>Drug offence</td>\n",
       "      <td>34</td>\n",
       "      <td>31-40</td>\n",
       "      <td>Joseph Green</td>\n",
       "      <td>2023-03-23</td>\n",
       "    </tr>\n",
       "    <tr>\n",
       "      <th>3</th>\n",
       "      <td>TUP1206QEM</td>\n",
       "      <td>2022-12-14</td>\n",
       "      <td>location</td>\n",
       "      <td>1953-12-28</td>\n",
       "      <td>male</td>\n",
       "      <td>other</td>\n",
       "      <td>Theft offence</td>\n",
       "      <td>69</td>\n",
       "      <td>61-70</td>\n",
       "      <td>Mr Danny Robinson</td>\n",
       "      <td>2023-02-13</td>\n",
       "    </tr>\n",
       "    <tr>\n",
       "      <th>4</th>\n",
       "      <td>AVL7422VBW</td>\n",
       "      <td>2022-08-11</td>\n",
       "      <td>alcohol</td>\n",
       "      <td>1982-04-20</td>\n",
       "      <td>female</td>\n",
       "      <td>mixed</td>\n",
       "      <td>Theft offence</td>\n",
       "      <td>40</td>\n",
       "      <td>41-50</td>\n",
       "      <td>Miss Mary Taylor</td>\n",
       "      <td>2023-02-01</td>\n",
       "    </tr>\n",
       "    <tr>\n",
       "      <th>...</th>\n",
       "      <td>...</td>\n",
       "      <td>...</td>\n",
       "      <td>...</td>\n",
       "      <td>...</td>\n",
       "      <td>...</td>\n",
       "      <td>...</td>\n",
       "      <td>...</td>\n",
       "      <td>...</td>\n",
       "      <td>...</td>\n",
       "      <td>...</td>\n",
       "      <td>...</td>\n",
       "    </tr>\n",
       "    <tr>\n",
       "      <th>1274</th>\n",
       "      <td>TLE7766TYO</td>\n",
       "      <td>2022-08-10</td>\n",
       "      <td>curfew</td>\n",
       "      <td>1961-09-26</td>\n",
       "      <td>male</td>\n",
       "      <td>asian</td>\n",
       "      <td>Fraud</td>\n",
       "      <td>60</td>\n",
       "      <td>61-70</td>\n",
       "      <td>NaN</td>\n",
       "      <td>NaN</td>\n",
       "    </tr>\n",
       "    <tr>\n",
       "      <th>1275</th>\n",
       "      <td>IFV7146YSR</td>\n",
       "      <td>2022-10-16</td>\n",
       "      <td>alcohol</td>\n",
       "      <td>1901-02-06</td>\n",
       "      <td>male</td>\n",
       "      <td>unknown</td>\n",
       "      <td>Criminal Damage</td>\n",
       "      <td>121</td>\n",
       "      <td>121-130</td>\n",
       "      <td>NaN</td>\n",
       "      <td>NaN</td>\n",
       "    </tr>\n",
       "    <tr>\n",
       "      <th>1276</th>\n",
       "      <td>RON5494GDR</td>\n",
       "      <td>2022-09-08</td>\n",
       "      <td>curfew</td>\n",
       "      <td>1995-10-06</td>\n",
       "      <td>male</td>\n",
       "      <td>unknown</td>\n",
       "      <td>Summary motoring</td>\n",
       "      <td>26</td>\n",
       "      <td>21-30</td>\n",
       "      <td>NaN</td>\n",
       "      <td>NaN</td>\n",
       "    </tr>\n",
       "    <tr>\n",
       "      <th>1277</th>\n",
       "      <td>CYZ8570YTW</td>\n",
       "      <td>2022-09-19</td>\n",
       "      <td>location</td>\n",
       "      <td>1916-05-15</td>\n",
       "      <td>male</td>\n",
       "      <td>other</td>\n",
       "      <td>Summary non-motoring</td>\n",
       "      <td>106</td>\n",
       "      <td>101-110</td>\n",
       "      <td>NaN</td>\n",
       "      <td>NaN</td>\n",
       "    </tr>\n",
       "    <tr>\n",
       "      <th>1278</th>\n",
       "      <td>VOA5131CTD</td>\n",
       "      <td>2022-09-08</td>\n",
       "      <td>alcohol</td>\n",
       "      <td>1923-11-26</td>\n",
       "      <td>female</td>\n",
       "      <td>asian</td>\n",
       "      <td>Criminal Damage</td>\n",
       "      <td>98</td>\n",
       "      <td>91-100</td>\n",
       "      <td>NaN</td>\n",
       "      <td>NaN</td>\n",
       "    </tr>\n",
       "  </tbody>\n",
       "</table>\n",
       "<p>1279 rows × 11 columns</p>\n",
       "</div>"
      ],
      "text/plain": [
       "     offender_id tag_install_date  tag_type        dob     sex ethnic_group  \\\n",
       "0     YEG6518QIV       2022-11-19   alcohol 1994-06-19    male        asian   \n",
       "1     JME7219QND       2022-09-02  location 1986-09-19  female        white   \n",
       "2     WSO1347WIQ       2022-10-10    curfew 1988-10-05    male        other   \n",
       "3     TUP1206QEM       2022-12-14  location 1953-12-28    male        other   \n",
       "4     AVL7422VBW       2022-08-11   alcohol 1982-04-20  female        mixed   \n",
       "...          ...              ...       ...        ...     ...          ...   \n",
       "1274  TLE7766TYO       2022-08-10    curfew 1961-09-26    male        asian   \n",
       "1275  IFV7146YSR       2022-10-16   alcohol 1901-02-06    male      unknown   \n",
       "1276  RON5494GDR       2022-09-08    curfew 1995-10-06    male      unknown   \n",
       "1277  CYZ8570YTW       2022-09-19  location 1916-05-15    male        other   \n",
       "1278  VOA5131CTD       2022-09-08   alcohol 1923-11-26  female        asian   \n",
       "\n",
       "                 original_offence  age_at_tag_install age_group  \\\n",
       "0            Summary non-motoring                  28     21-30   \n",
       "1     Violence against the person                  35     31-40   \n",
       "2                    Drug offence                  34     31-40   \n",
       "3                   Theft offence                  69     61-70   \n",
       "4                   Theft offence                  40     41-50   \n",
       "...                           ...                 ...       ...   \n",
       "1274                        Fraud                  60     61-70   \n",
       "1275              Criminal Damage                 121   121-130   \n",
       "1276             Summary motoring                  26     21-30   \n",
       "1277         Summary non-motoring                 106   101-110   \n",
       "1278              Criminal Damage                  98    91-100   \n",
       "\n",
       "           offender_name breach_date  \n",
       "0            Ricky Booth  2023-03-11  \n",
       "1     Dr Charlene Jordan  2023-03-05  \n",
       "2           Joseph Green  2023-03-23  \n",
       "3      Mr Danny Robinson  2023-02-13  \n",
       "4       Miss Mary Taylor  2023-02-01  \n",
       "...                  ...         ...  \n",
       "1274                 NaN         NaN  \n",
       "1275                 NaN         NaN  \n",
       "1276                 NaN         NaN  \n",
       "1277                 NaN         NaN  \n",
       "1278                 NaN         NaN  \n",
       "\n",
       "[1279 rows x 11 columns]"
      ]
     },
     "execution_count": 21,
     "metadata": {},
     "output_type": "execute_result"
    }
   ],
   "source": [
    "#create a column in pilot_tag_df based on if an offender_id has breached\n",
    "#do this via a left join \n",
    "\n",
    "pilot_tag_df = pilot_tag_df.merge(all_breaches_df,how=\"left\",on=\"offender_id\")\n",
    "pilot_tag_df\n",
    "#in real life, getting information from joining tables is very common\n",
    "#you're lucky if you have a data modeller who has mapped out all the connections\n",
    "#between columns in tables, otherwise you have to do that painful task yourself!\n",
    "#usually table joins aren't as pretty as this one in our example!\n",
    "\n",
    "\n",
    "#after this join you could do some double checking to see if the offender_name seems to match the sex, for example"
   ]
  },
  {
   "cell_type": "code",
   "execution_count": 22,
   "metadata": {},
   "outputs": [
    {
     "data": {
      "text/plain": [
       "No     1130\n",
       "Yes     149\n",
       "Name: breach, dtype: int64"
      ]
     },
     "execution_count": 22,
     "metadata": {},
     "output_type": "execute_result"
    }
   ],
   "source": [
    "pilot_tag_df[\"breach\"] =  np.where(pilot_tag_df['breach_date'].notna(), 'Yes', \"No\")\n",
    "#check counts\n",
    "get_category_counts(pilot_tag_df,\"breach\")"
   ]
  },
  {
   "cell_type": "code",
   "execution_count": 23,
   "metadata": {},
   "outputs": [
    {
     "data": {
      "text/plain": [
       "11.64972634870993"
      ]
     },
     "execution_count": 23,
     "metadata": {},
     "output_type": "execute_result"
    }
   ],
   "source": [
    "#% of tag wearers who breached within the time\n",
    "(149/(1130+149))*100"
   ]
  },
  {
   "cell_type": "code",
   "execution_count": 24,
   "metadata": {},
   "outputs": [
    {
     "data": {
      "text/plain": [
       "count    149.000000\n",
       "mean     156.476510\n",
       "std       61.968015\n",
       "min       15.000000\n",
       "25%      114.000000\n",
       "50%      158.000000\n",
       "75%      197.000000\n",
       "max      303.000000\n",
       "Name: breach_time, dtype: float64"
      ]
     },
     "execution_count": 24,
     "metadata": {},
     "output_type": "execute_result"
    }
   ],
   "source": [
    "#column difference in date got tag and date that breached\n",
    "pilot_tag_df['breach_date'] = pd.to_datetime(pilot_tag_df['breach_date'])\n",
    "\n",
    "# Calculate the difference in days\n",
    "pilot_tag_df['breach_time'] = (pilot_tag_df['breach_date'] - pilot_tag_df['tag_install_date']).dt.days\n",
    "\n",
    "#stats for the column\n",
    "pilot_tag_df['breach_time'].describe()"
   ]
  },
  {
   "cell_type": "code",
   "execution_count": 25,
   "metadata": {},
   "outputs": [],
   "source": [
    "#% breached by category\n",
    "def calculate_percentage(df, group_col):\n",
    "    # Group the dataframe by the specified column\n",
    "    grouped = df.groupby(group_col)\n",
    "\n",
    "    # Count the occurrences of 'Yes' in 'breach_time' for each group\n",
    "    group_counts = grouped['breach'].apply(lambda x: (x == 'Yes').sum())\n",
    "    #print(group_counts)\n",
    "\n",
    "    # Calculate the total count of 'offender_id' for each group\n",
    "    total_counts = grouped['offender_id'].count()\n",
    "    #print(total_counts)\n",
    "    # Calculate the percentage for each group\n",
    "    percentages = (group_counts / total_counts) * 100\n",
    "\n",
    "    return percentages\n"
   ]
  },
  {
   "cell_type": "code",
   "execution_count": 26,
   "metadata": {},
   "outputs": [
    {
     "data": {
      "text/plain": [
       "offender_id                   object\n",
       "tag_install_date      datetime64[ns]\n",
       "tag_type                      object\n",
       "dob                   datetime64[ns]\n",
       "sex                           object\n",
       "ethnic_group                  object\n",
       "original_offence              object\n",
       "age_at_tag_install             int32\n",
       "age_group                   category\n",
       "offender_name                 object\n",
       "breach_date           datetime64[ns]\n",
       "breach                        object\n",
       "breach_time                  float64\n",
       "dtype: object"
      ]
     },
     "execution_count": 26,
     "metadata": {},
     "output_type": "execute_result"
    }
   ],
   "source": [
    "pilot_tag_df.dtypes"
   ]
  },
  {
   "cell_type": "code",
   "execution_count": 27,
   "metadata": {},
   "outputs": [
    {
     "data": {
      "text/plain": [
       "tag_type\n",
       "alcohol     10.117647\n",
       "curfew      13.270142\n",
       "location    11.574074\n",
       "dtype: float64"
      ]
     },
     "execution_count": 27,
     "metadata": {},
     "output_type": "execute_result"
    }
   ],
   "source": [
    "calculate_percentage(pilot_tag_df, 'tag_type')"
   ]
  },
  {
   "cell_type": "code",
   "execution_count": 28,
   "metadata": {},
   "outputs": [
    {
     "data": {
      "text/plain": [
       "sex\n",
       "female      10.093168\n",
       "male        13.091483\n",
       "unknown    100.000000\n",
       "dtype: float64"
      ]
     },
     "execution_count": 28,
     "metadata": {},
     "output_type": "execute_result"
    }
   ],
   "source": [
    "calculate_percentage(pilot_tag_df, 'sex')\n",
    "#unknown likely anomalous as only 1 unknown record so appears like 100%"
   ]
  },
  {
   "cell_type": "code",
   "execution_count": 29,
   "metadata": {},
   "outputs": [
    {
     "data": {
      "text/plain": [
       "age_group\n",
       "11-20       6.451613\n",
       "21-30      11.764706\n",
       "31-40      15.909091\n",
       "41-50      11.200000\n",
       "51-60      10.526316\n",
       "61-70      16.666667\n",
       "71-80       9.917355\n",
       "81-90       9.803922\n",
       "91-100     11.403509\n",
       "101-110    11.607143\n",
       "111-120     9.243697\n",
       "121-130     8.823529\n",
       "dtype: float64"
      ]
     },
     "execution_count": 29,
     "metadata": {},
     "output_type": "execute_result"
    }
   ],
   "source": [
    "calculate_percentage(pilot_tag_df, 'age_group')"
   ]
  },
  {
   "cell_type": "code",
   "execution_count": 30,
   "metadata": {},
   "outputs": [
    {
     "data": {
      "text/plain": [
       "ethnic_group\n",
       "asian      11.483254\n",
       "black      13.063063\n",
       "mixed      11.675127\n",
       "other      13.145540\n",
       "unknown    11.013216\n",
       "white       9.478673\n",
       "dtype: float64"
      ]
     },
     "execution_count": 30,
     "metadata": {},
     "output_type": "execute_result"
    }
   ],
   "source": [
    "calculate_percentage(pilot_tag_df, 'ethnic_group')"
   ]
  },
  {
   "cell_type": "code",
   "execution_count": 31,
   "metadata": {},
   "outputs": [
    {
     "data": {
      "text/plain": [
       "original_offence\n",
       "Criminal Damage                 8.163265\n",
       "Drug offence                   10.625000\n",
       "Fraud                          12.500000\n",
       "Other Indictable               14.012739\n",
       "Summary motoring               13.170732\n",
       "Summary non-motoring            6.790123\n",
       "Theft offence                  14.666667\n",
       "Violence against the person    12.987013\n",
       "dtype: float64"
      ]
     },
     "execution_count": 31,
     "metadata": {},
     "output_type": "execute_result"
    }
   ],
   "source": [
    "calculate_percentage(pilot_tag_df, 'original_offence')"
   ]
  },
  {
   "cell_type": "code",
   "execution_count": 32,
   "metadata": {},
   "outputs": [],
   "source": [
    "#we can use chi sq tests of independance to \n",
    "#see if there is an association between the categorical variables\n",
    "#of \"breach\" and the rest\n",
    "\n",
    "#in real life you might \n",
    "#1) check if you meet the assumptions of the test e.g. if requires normality, might need non-parametric version of test\n",
    "#2) check if there are other tests avaiable\n",
    "#3 Consider if the frequentist approach to testing is not vulnerable in this context compared to Bayesian version of tests. \n",
    "#  Frequentist tests usually become more likely to be significant are the dataset size increases. "
   ]
  },
  {
   "cell_type": "code",
   "execution_count": 33,
   "metadata": {},
   "outputs": [],
   "source": [
    "from scipy.stats import chi2_contingency\n",
    "\n",
    "def calculate_chi_squared(df, column_one,column_two, sig_lev):\n",
    "    # Create a contingency table between the two columns\n",
    "    contingency_table = pd.crosstab(df[column_one], df[column_two])\n",
    "\n",
    "    print(contingency_table)\n",
    "    #you could additionally check to see which exact cells in contingency_table are causing the\n",
    "    #significance at your desired level e.g. if value is 2sd above mean\n",
    "    \n",
    "    # Perform chi-squared test\n",
    "    chi2, p_value, _, _ = chi2_contingency(contingency_table)\n",
    "    \n",
    "    print(\"Chi-squared:\", chi2)\n",
    "    print(\"P-value:\", p_value)\n",
    "    \n",
    "    test_result = \"\"\n",
    "    \n",
    "    if p_value < sig_lev:test_result = \"significant\"\n",
    "    else: test_result = \"not significant\"\n",
    "\n",
    "    return test_result"
   ]
  },
  {
   "cell_type": "code",
   "execution_count": 34,
   "metadata": {},
   "outputs": [
    {
     "name": "stdout",
     "output_type": "stream",
     "text": [
      "tag_type  alcohol  curfew  location\n",
      "breach                             \n",
      "No            382     366       382\n",
      "Yes            43      56        50\n",
      "Chi-squared: 2.0482030609454913\n",
      "P-value: 0.35911897795876024\n"
     ]
    },
    {
     "data": {
      "text/plain": [
       "'not significant'"
      ]
     },
     "execution_count": 34,
     "metadata": {},
     "output_type": "execute_result"
    }
   ],
   "source": [
    "# 0.05 p-value is \"conventional\" in academia, but there have been other papers which\n",
    "# have argued to reducing it a lot e.g. to 0.001 \n",
    "calculate_chi_squared(pilot_tag_df, 'breach', 'tag_type', 0.05)"
   ]
  },
  {
   "cell_type": "code",
   "execution_count": 35,
   "metadata": {},
   "outputs": [
    {
     "name": "stdout",
     "output_type": "stream",
     "text": [
      "sex     female  male  unknown\n",
      "breach                       \n",
      "No         579   551        0\n",
      "Yes         65    83        1\n",
      "Chi-squared: 10.380282609027894\n",
      "P-value: 0.005571219520830717\n"
     ]
    },
    {
     "data": {
      "text/plain": [
       "'significant'"
      ]
     },
     "execution_count": 35,
     "metadata": {},
     "output_type": "execute_result"
    }
   ],
   "source": [
    "calculate_chi_squared(pilot_tag_df, 'breach', 'sex', 0.05)\n",
    "#this test shouldn't actually be done because one of the assumptions of chi sq test is that no cells have\n",
    "#vales below a count of 5 (and the unknown sex values do)\n",
    "#this is why it's really important to check the analytical technique you're choosing to use is appropriate"
   ]
  },
  {
   "cell_type": "code",
   "execution_count": 36,
   "metadata": {},
   "outputs": [
    {
     "name": "stdout",
     "output_type": "stream",
     "text": [
      "age_group  11-20  21-30  31-40  41-50  51-60  61-70  71-80  81-90  91-100  \\\n",
      "breach                                                                      \n",
      "No            29    120    111    111    119    100    109     92     101   \n",
      "Yes            2     16     21     14     14     20     12     10      13   \n",
      "\n",
      "age_group  101-110  111-120  121-130  \n",
      "breach                                \n",
      "No              99      108       31  \n",
      "Yes             13       11        3  \n",
      "Chi-squared: 7.894938571303869\n",
      "P-value: 0.7226830564615045\n"
     ]
    },
    {
     "data": {
      "text/plain": [
       "'not significant'"
      ]
     },
     "execution_count": 36,
     "metadata": {},
     "output_type": "execute_result"
    }
   ],
   "source": [
    "calculate_chi_squared(pilot_tag_df, 'breach', 'age_group', 0.05)"
   ]
  },
  {
   "cell_type": "code",
   "execution_count": 37,
   "metadata": {},
   "outputs": [
    {
     "name": "stdout",
     "output_type": "stream",
     "text": [
      "ethnic_group  asian  black  mixed  other  unknown  white\n",
      "breach                                                  \n",
      "No              185    193    174    185      202    191\n",
      "Yes              24     29     23     28       25     20\n",
      "Chi-squared: 1.9552542176727514\n",
      "P-value: 0.8553011944212996\n"
     ]
    },
    {
     "data": {
      "text/plain": [
       "'not significant'"
      ]
     },
     "execution_count": 37,
     "metadata": {},
     "output_type": "execute_result"
    }
   ],
   "source": [
    "calculate_chi_squared(pilot_tag_df, 'breach', 'ethnic_group', 0.05)"
   ]
  },
  {
   "cell_type": "code",
   "execution_count": 38,
   "metadata": {},
   "outputs": [
    {
     "name": "stdout",
     "output_type": "stream",
     "text": [
      "original_offence  Criminal Damage  Drug offence  Fraud  Other Indictable  \\\n",
      "breach                                                                     \n",
      "No                            135           143    126               135   \n",
      "Yes                            12            17     18                22   \n",
      "\n",
      "original_offence  Summary motoring  Summary non-motoring  Theft offence  \\\n",
      "breach                                                                    \n",
      "No                             178                   151            128   \n",
      "Yes                             27                    11             22   \n",
      "\n",
      "original_offence  Violence against the person  \n",
      "breach                                         \n",
      "No                                        134  \n",
      "Yes                                        20  \n",
      "Chi-squared: 8.624016664884548\n",
      "P-value: 0.2807885651098836\n"
     ]
    },
    {
     "data": {
      "text/plain": [
       "'not significant'"
      ]
     },
     "execution_count": 38,
     "metadata": {},
     "output_type": "execute_result"
    }
   ],
   "source": [
    "calculate_chi_squared(pilot_tag_df, 'breach', 'original_offence', 0.05)\n"
   ]
  },
  {
   "cell_type": "code",
   "execution_count": 39,
   "metadata": {},
   "outputs": [],
   "source": [
    "#in your own time, you can can do other tests like checking if time to breach significantly differs by categories of offender"
   ]
  },
  {
   "cell_type": "markdown",
   "metadata": {},
   "source": [
    "## Naive linear forecasts"
   ]
  },
  {
   "cell_type": "code",
   "execution_count": 40,
   "metadata": {},
   "outputs": [],
   "source": [
    "#forecasting future breached offenders from pilot\n",
    "#this is a very naive forecast with huge uncertainty\n",
    "#because it only takes into consider the count of those who breached\n",
    "\n",
    "#need to use all_breaches_df\n",
    "#add col to see if that offender was in the pilot "
   ]
  },
  {
   "cell_type": "code",
   "execution_count": null,
   "metadata": {},
   "outputs": [],
   "source": []
  },
  {
   "cell_type": "code",
   "execution_count": null,
   "metadata": {},
   "outputs": [],
   "source": []
  }
 ],
 "metadata": {
  "kernelspec": {
   "display_name": "Python 3",
   "language": "python",
   "name": "python3"
  },
  "language_info": {
   "codemirror_mode": {
    "name": "ipython",
    "version": 3
   },
   "file_extension": ".py",
   "mimetype": "text/x-python",
   "name": "python",
   "nbconvert_exporter": "python",
   "pygments_lexer": "ipython3",
   "version": "3.7.0"
  }
 },
 "nbformat": 4,
 "nbformat_minor": 2
}
